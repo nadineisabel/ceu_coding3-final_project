{
 "cells": [
  {
   "cell_type": "markdown",
   "id": "fe65c621",
   "metadata": {},
   "source": [
    "### Coding 3: Final Assignment - Bechdel Test Investigation\n",
    "#### Peter Endes-Nagy and Nadine Levin"
   ]
  },
  {
   "cell_type": "markdown",
   "id": "bb038411",
   "metadata": {},
   "source": [
    "*Resources* \n",
    "1. https://data.world/sharon/bechdel-test\n",
    "2. https://bechdeltest.com/\n",
    "3. https://www.kaggle.com/rounakbanik/the-movies-dataset\n",
    "4. https://www.themoviedb.org/documentation/api"
   ]
  },
  {
   "cell_type": "code",
   "execution_count": 32,
   "id": "c874b47e",
   "metadata": {},
   "outputs": [],
   "source": [
    "import numpy as np\n",
    "import pandas as pd\n",
    "import requests\n",
    "import json\n",
    "import time"
   ]
  },
  {
   "cell_type": "markdown",
   "id": "c3ec3b26",
   "metadata": {},
   "source": [
    "##### API Section"
   ]
  },
  {
   "cell_type": "code",
   "execution_count": 25,
   "id": "97f9b804",
   "metadata": {},
   "outputs": [
    {
     "name": "stdout",
     "output_type": "stream",
     "text": [
      "       imdbid     id\n",
      "0              10029\n",
      "1              10131\n",
      "2              10155\n",
      "3     0000001   9651\n",
      "4     0000002   9632\n",
      "...       ...    ...\n",
      "9412  9844522  10043\n",
      "9413  9866072   9839\n",
      "9414  9893250   9491\n",
      "9415  9900092  10010\n",
      "9416  9902160   9452\n",
      "\n",
      "[9417 rows x 2 columns]\n"
     ]
    }
   ],
   "source": [
    "#API for ids (not sure if it's needed)\n",
    "api_movie_ids_df = pd.read_json(\"http://bechdeltest.com/api/v1/getAllMovieIds\")\n",
    "print(api_movie_ids_df)"
   ]
  },
  {
   "cell_type": "code",
   "execution_count": 33,
   "id": "20769fc6",
   "metadata": {},
   "outputs": [
    {
     "name": "stdout",
     "output_type": "stream",
     "text": [
      "        imdbid     id                       title rating       year\n",
      "0      3155794   9602            Passage de Venus      0 1874-01-01\n",
      "1     14495706   9804           La Rosace Magique      0 1877-01-01\n",
      "2      2221420   9603  Sallie Gardner at a Gallop      0 1878-01-01\n",
      "3     12592084   9806           Le singe musicien      0 1878-01-01\n",
      "4      7816420   9816     Athlete Swinging a Pick      0 1881-01-01\n",
      "...        ...    ...                         ...    ...        ...\n",
      "9412   4995540  10199          Being The Ricardos      3 2021-01-01\n",
      "9413  11127680  10200               Boiling Point      3 2021-01-01\n",
      "9414  10293406  10202       Power of the Dog, The      0 2021-01-01\n",
      "9415  11389748  10206                        Mass      3 2021-01-01\n",
      "9416   8356942  10195                    355, The      3 2022-01-01\n",
      "\n",
      "[9417 rows x 5 columns]\n"
     ]
    }
   ],
   "source": [
    "#API for rating, imdbid, title, id, and year\n",
    "api_all_movies_df = pd.read_json('http://bechdeltest.com/api/v1/getAllMovies')\n",
    "api_all_movies_df['year'] = pd.to_datetime(api_all_movies_df['year'], format='%Y')\n",
    "api_all_movies_df['rating'] = api_all_movies_df['rating'].astype('category', copy=False)\n",
    "print(api_all_movies_df)"
   ]
  },
  {
   "cell_type": "code",
   "execution_count": 47,
   "id": "9b27e14b",
   "metadata": {},
   "outputs": [
    {
     "name": "stdout",
     "output_type": "stream",
     "text": [
      "{'Response': 'False', 'Error': 'Request limit reached!'} \n",
      "\n",
      "{'Response': 'False', 'Error': 'Request limit reached!'} \n",
      "\n",
      "{'Response': 'False', 'Error': 'Request limit reached!'} \n",
      "\n"
     ]
    },
    {
     "ename": "KeyboardInterrupt",
     "evalue": "",
     "output_type": "error",
     "traceback": [
      "\u001b[0;31m---------------------------------------------------------------------------\u001b[0m",
      "\u001b[0;31mKeyboardInterrupt\u001b[0m                         Traceback (most recent call last)",
      "\u001b[0;32m/var/folders/xg/n4kbhz8536n26ctz3c749pd80000gn/T/ipykernel_43426/2337100974.py\u001b[0m in \u001b[0;36m<module>\u001b[0;34m\u001b[0m\n\u001b[1;32m      5\u001b[0m     \u001b[0murl\u001b[0m \u001b[0;34m=\u001b[0m \u001b[0;34m'http://www.omdbapi.com/?i=tt{0}&apikey=9dd4252d'\u001b[0m\u001b[0;34m.\u001b[0m\u001b[0mformat\u001b[0m\u001b[0;34m(\u001b[0m\u001b[0mimdb_id\u001b[0m\u001b[0;34m)\u001b[0m\u001b[0;34m\u001b[0m\u001b[0;34m\u001b[0m\u001b[0m\n\u001b[1;32m      6\u001b[0m     \u001b[0mresp\u001b[0m \u001b[0;34m=\u001b[0m \u001b[0mrequests\u001b[0m\u001b[0;34m.\u001b[0m\u001b[0mget\u001b[0m\u001b[0;34m(\u001b[0m\u001b[0murl\u001b[0m\u001b[0;34m)\u001b[0m\u001b[0;34m\u001b[0m\u001b[0;34m\u001b[0m\u001b[0m\n\u001b[0;32m----> 7\u001b[0;31m     \u001b[0mtime\u001b[0m\u001b[0;34m.\u001b[0m\u001b[0msleep\u001b[0m\u001b[0;34m(\u001b[0m\u001b[0;36m3\u001b[0m\u001b[0;34m)\u001b[0m\u001b[0;34m\u001b[0m\u001b[0;34m\u001b[0m\u001b[0m\n\u001b[0m\u001b[1;32m      8\u001b[0m     \u001b[0mresp_json\u001b[0m \u001b[0;34m=\u001b[0m \u001b[0mjson\u001b[0m\u001b[0;34m.\u001b[0m\u001b[0mloads\u001b[0m\u001b[0;34m(\u001b[0m\u001b[0mresp\u001b[0m\u001b[0;34m.\u001b[0m\u001b[0mtext\u001b[0m\u001b[0;34m)\u001b[0m\u001b[0;34m\u001b[0m\u001b[0;34m\u001b[0m\u001b[0m\n\u001b[1;32m      9\u001b[0m     \u001b[0mprint\u001b[0m\u001b[0;34m(\u001b[0m\u001b[0mresp_json\u001b[0m\u001b[0;34m,\u001b[0m \u001b[0;34m'\\n'\u001b[0m\u001b[0;34m)\u001b[0m\u001b[0;34m\u001b[0m\u001b[0;34m\u001b[0m\u001b[0m\n",
      "\u001b[0;31mKeyboardInterrupt\u001b[0m: "
     ]
    }
   ],
   "source": [
    "#List of imdb ids to use for API (this will timeout the API requests in for loop below but I tested with a random id and it works)\n",
    "#We should select <1,000 film ids to use for this\n",
    "imdb_ids_list = api_all_movies_df['imdbid'].tolist()\n",
    "resp_json_list = []\n",
    "for imdb_id in imdb_ids_list:\n",
    "    url = 'http://www.omdbapi.com/?i=tt{0}&apikey=9dd4252d'.format(imdb_id)\n",
    "    resp = requests.get(url)\n",
    "    time.sleep(3)\n",
    "    resp_json = json.loads(resp.text)\n",
    "    print(resp_json, '\\n')\n",
    "    resp_json_list.append(resp_json)"
   ]
  },
  {
   "cell_type": "code",
   "execution_count": 44,
   "id": "0efcf01d",
   "metadata": {},
   "outputs": [
    {
     "name": "stdout",
     "output_type": "stream",
     "text": [
      "{'Title': 'Guardians of the Galaxy Vol. 2', 'Year': '2017', 'Rated': 'PG-13', 'Released': '05 May 2017', 'Runtime': '136 min', 'Genre': 'Action, Adventure, Comedy', 'Director': 'James Gunn', 'Writer': 'James Gunn, Dan Abnett, Andy Lanning', 'Actors': 'Chris Pratt, Zoe Saldana, Dave Bautista', 'Plot': \"The Guardians struggle to keep together as a team while dealing with their personal family issues, notably Star-Lord's encounter with his father the ambitious celestial being Ego.\", 'Language': 'English', 'Country': 'United States', 'Awards': 'Nominated for 1 Oscar. 15 wins & 59 nominations total', 'Poster': 'https://m.media-amazon.com/images/M/MV5BNjM0NTc0NzItM2FlYS00YzEwLWE0YmUtNTA2ZWIzODc2OTgxXkEyXkFqcGdeQXVyNTgwNzIyNzg@._V1_SX300.jpg', 'Ratings': [{'Source': 'Internet Movie Database', 'Value': '7.6/10'}, {'Source': 'Rotten Tomatoes', 'Value': '85%'}, {'Source': 'Metacritic', 'Value': '67/100'}], 'Metascore': '67', 'imdbRating': '7.6', 'imdbVotes': '641,226', 'imdbID': 'tt3896198', 'Type': 'movie', 'DVD': '22 Aug 2017', 'BoxOffice': '$389,813,101', 'Production': 'N/A', 'Website': 'N/A', 'Response': 'True'} \n",
      "\n"
     ]
    }
   ],
   "source": [
    "imdb_ids_list = ['3896198']\n",
    "resp_json_list = []\n",
    "for imdb_id in imdb_ids_list:\n",
    "    url = 'http://www.omdbapi.com/?i=tt{0}&apikey=9dd4252d'.format(imdb_id)\n",
    "    resp = requests.get(url)\n",
    "    time.sleep(3)\n",
    "    resp_json = json.loads(resp.text)\n",
    "    print(resp_json, '\\n')\n",
    "    resp_json_list.append(resp_json)"
   ]
  },
  {
   "cell_type": "markdown",
   "id": "ed3b10c7",
   "metadata": {},
   "source": [
    "##### CSV Section (We can load more CSVs if needed later on)"
   ]
  },
  {
   "cell_type": "code",
   "execution_count": 24,
   "id": "9424c198",
   "metadata": {
    "scrolled": true
   },
   "outputs": [
    {
     "name": "stdout",
     "output_type": "stream",
     "text": [
      "                          title  year  length      budget  rating  votes  \\\n",
      "0                             $  1971     121         NaN     6.4    348   \n",
      "1             $1000 a Touchdown  1939      71         NaN     6.0     20   \n",
      "2        $21 a Day Once a Month  1941       7         NaN     8.2      5   \n",
      "3                       $40,000  1996      70         NaN     8.2      6   \n",
      "4      $50,000 Climax Show, The  1975      71         NaN     3.4     17   \n",
      "...                         ...   ...     ...         ...     ...    ...   \n",
      "58783                 tom thumb  1958      98         NaN     6.5    274   \n",
      "58784               www.XXX.com  2003     105         NaN     1.1     12   \n",
      "58785    www.hellssoapopera.com  1999     100         NaN     6.6      5   \n",
      "58786                       xXx  2002     132  85000000.0     5.5  18514   \n",
      "58787   xXx: State of the Union  2005     101  87000000.0     3.9   1584   \n",
      "\n",
      "         r1    r2    r3    r4  ...    r9   r10   mpaa  Action  Animation  \\\n",
      "0       4.5   4.5   4.5   4.5  ...   4.5   4.5    NaN       0          0   \n",
      "1       0.0  14.5   4.5  24.5  ...   4.5  14.5    NaN       0          0   \n",
      "2       0.0   0.0   0.0   0.0  ...  24.5  24.5    NaN       0          1   \n",
      "3      14.5   0.0   0.0   0.0  ...  34.5  45.5    NaN       0          0   \n",
      "4      24.5   4.5   0.0  14.5  ...   0.0  24.5    NaN       0          0   \n",
      "...     ...   ...   ...   ...  ...   ...   ...    ...     ...        ...   \n",
      "58783   4.5   4.5   4.5   4.5  ...   4.5   4.5    NaN       0          1   \n",
      "58784  45.5   0.0   0.0   0.0  ...   0.0  24.5    NaN       0          0   \n",
      "58785  24.5   0.0  24.5   0.0  ...  24.5  44.5    NaN       0          0   \n",
      "58786   4.5   4.5   4.5   4.5  ...   4.5   4.5  PG-13       1          0   \n",
      "58787  24.5   4.5   4.5   4.5  ...   4.5  14.5  PG-13       1          0   \n",
      "\n",
      "       Comedy Drama  Documentary  Romance  Short  \n",
      "0           1     1            0        0      0  \n",
      "1           1     0            0        0      0  \n",
      "2           0     0            0        0      1  \n",
      "3           1     0            0        0      0  \n",
      "4           0     0            0        0      0  \n",
      "...       ...   ...          ...      ...    ...  \n",
      "58783       0     0            0        0      0  \n",
      "58784       0     1            0        1      0  \n",
      "58785       0     0            0        0      0  \n",
      "58786       0     0            0        0      0  \n",
      "58787       0     0            0        0      0  \n",
      "\n",
      "[58788 rows x 24 columns]\n"
     ]
    }
   ],
   "source": [
    "#https://cran.r-project.org/web/packages/ggplot2movies/index.html (I downloaded the data in RStudio)\n",
    "csv_ggplot2movies_df = pd.read_csv('https://raw.githubusercontent.com/nadineisabel/ceu_coding3-final_project/main/data/r_ggplor2movies.csv')\n",
    "print(csv_ggplot2movies_df)"
   ]
  },
  {
   "cell_type": "markdown",
   "id": "260e0be6",
   "metadata": {},
   "source": [
    "##### Gender Prediction Library Section (We can use this on director names, actor names, etc.)"
   ]
  },
  {
   "cell_type": "code",
   "execution_count": 46,
   "id": "6ab2bff1",
   "metadata": {},
   "outputs": [
    {
     "name": "stdout",
     "output_type": "stream",
     "text": [
      "Requirement already satisfied: gender-guesser in /Users/nadineisabellevin/opt/anaconda3/lib/python3.9/site-packages (0.4.0)\r\n"
     ]
    }
   ],
   "source": [
    "#https://pypi.org/project/gender-guesser/\n",
    "!pip install gender-guesser\n",
    "import gender_guesser.detector as gen"
   ]
  },
  {
   "cell_type": "code",
   "execution_count": null,
   "id": "54d3a3d6",
   "metadata": {},
   "outputs": [],
   "source": [
    "#Code copied from an example but we can use this for our IMDb data\n",
    "d = gen.Detector()\n",
    "genders = []\n",
    "firstNames = dfLatest['director'].str.split().str.get(0)\n",
    "for i in firstNames[0:len(firstNames)]:\n",
    "    if d.get_gender(i) == 'male':\n",
    "        genders.append('male')\n",
    "    elif d.get_gender(i) == 'female':\n",
    "        genders.append('female')\n",
    "    else:\n",
    "        genders.append('unknown')\n",
    "dfLatest['gender'] = genders\n",
    "dfLatest = dfLatest[dfLatest['gender'] != 'unknown']\n",
    "# Encode the variable gender into a new dataframe:\n",
    "dfLatest['Male'] = dfLatest['gender'].map( {'male':1, 'female':0} )\n",
    "dfLatest.head()"
   ]
  },
  {
   "cell_type": "markdown",
   "id": "e8730be9",
   "metadata": {},
   "source": [
    "*Ideas*\n",
    "1. Scrape IMDb site for LGBT films of last 10 years to compare to popular films of last 10 years\n",
    "2. Investigate if LGBT films score higher on the Bechdel test than popular films\n",
    "3. Investigate if women direct films that score higher on the Bechdel test"
   ]
  }
 ],
 "metadata": {
  "kernelspec": {
   "display_name": "Python 3 (ipykernel)",
   "language": "python",
   "name": "python3"
  },
  "language_info": {
   "codemirror_mode": {
    "name": "ipython",
    "version": 3
   },
   "file_extension": ".py",
   "mimetype": "text/x-python",
   "name": "python",
   "nbconvert_exporter": "python",
   "pygments_lexer": "ipython3",
   "version": "3.9.7"
  }
 },
 "nbformat": 4,
 "nbformat_minor": 5
}
