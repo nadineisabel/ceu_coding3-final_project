{
 "cells": [
  {
   "cell_type": "code",
   "execution_count": 1,
   "id": "c124e537",
   "metadata": {},
   "outputs": [],
   "source": [
    "import pandas as pd \n",
    "import numpy as np \n",
    "import re\n",
    "import requests\n",
    "from bs4 import BeautifulSoup"
   ]
  },
  {
   "cell_type": "markdown",
   "id": "0d100bb8",
   "metadata": {},
   "source": [
    "Get all movies from the Bechdel dataset, containing Title, IMDb id's, year of release and the Bechdel-test scores. \n",
    "Called via the API, it's a little too easy. If we wanted to know more about the submitters and comments, we could use the more elaborate calls. "
   ]
  },
  {
   "cell_type": "code",
   "execution_count": 21,
   "id": "6c8da49d",
   "metadata": {},
   "outputs": [],
   "source": [
    "#bechdel_films = pd.read_json('http://bechdeltest.com/api/v1/getAllMovies') "
   ]
  },
  {
   "cell_type": "markdown",
   "id": "e3a8ae46",
   "metadata": {},
   "source": [
    "Write it into a csv, so we won't screw up with the Bechdel API curators. They kindly ask us to cache and not call the getAllMovies too often. "
   ]
  },
  {
   "cell_type": "code",
   "execution_count": 3,
   "id": "211fb5ce",
   "metadata": {},
   "outputs": [],
   "source": [
    "bechdel_films.to_csv('data/bechdel_films.csv' , index = False)"
   ]
  },
  {
   "cell_type": "code",
   "execution_count": 4,
   "id": "0d18a970",
   "metadata": {},
   "outputs": [],
   "source": [
    "bechdel_films = pd.read_csv('data/bechdel_films.csv' , dtype = str) #read as sting, otherwise our prescious imdb id's are float types"
   ]
  },
  {
   "cell_type": "markdown",
   "id": "98500c63",
   "metadata": {},
   "source": [
    "First, let's get the tags/keywords to figure out which film is LGBTQ+ related.  \n",
    "We scrape every film that is in the Bechdel-test dataset.  \n",
    "Save the full lists of tags into a dictionary by IMDb id's for later use.  \n",
    "Later scraping steps are also going to be saved into dics by IMDb id's, so we can join them. "
   ]
  },
  {
   "cell_type": "code",
   "execution_count": null,
   "id": "e896a84d",
   "metadata": {},
   "outputs": [],
   "source": [
    "tag_dict = {}"
   ]
  },
  {
   "cell_type": "code",
   "execution_count": null,
   "id": "98a87588",
   "metadata": {},
   "outputs": [],
   "source": [
    "j = 0\n",
    "for i in bechdel_films['imdbid']:\n",
    "    try: \n",
    "        res = requests.get(\"https://www.imdb.com/title/tt\" + i + \"/keywords?ref_=tt_stry_kw\")\n",
    "        soup = BeautifulSoup(res.text, 'html.parser')\n",
    "        taglist = soup.find_all('div' , class_=\"sodatext\")\n",
    "        tag_dict[i] = [ j.text.strip('\\n') for j in taglist ]\n",
    "        j = j + 1 \n",
    "        print( str(j) + \":\" + i)\n",
    "    except (ConnectionError , TypeError) as err: \n",
    "        #if there is a connection or type error, then print error msg it with the ID, so the code doesn't get interrupted.\n",
    "        print(err + \": IMDb ID:\" + i )"
   ]
  },
  {
   "cell_type": "markdown",
   "id": "4ade067a",
   "metadata": {},
   "source": [
    "Save our precious dictionary into a file, then load it back"
   ]
  },
  {
   "cell_type": "code",
   "execution_count": null,
   "id": "df0b41a2",
   "metadata": {},
   "outputs": [],
   "source": [
    "np.save('data/tag_dictionary.npy', tag_dict)"
   ]
  },
  {
   "cell_type": "code",
   "execution_count": 6,
   "id": "bb72cfb8",
   "metadata": {},
   "outputs": [],
   "source": [
    "tag_dict = np.load('data/tag_dictionary.npy', allow_pickle = True ).item()"
   ]
  },
  {
   "cell_type": "markdown",
   "id": "01625fac",
   "metadata": {},
   "source": [
    "Let's define our LGBTQ keywords.    \n",
    "By checking if a film is LGBTQ+ related, we iterate through the tags/keywords scraped from IMDb and check how many of the keywords (cleaned from punctiation, special characters) is in the the LGBTQ+ keyword list.  \n",
    "We save it into a dataframe, with following columns: IMDb ID (for joins), number of keywords scraped, number of LGBTQ+ keyword spotted.  "
   ]
  },
  {
   "cell_type": "code",
   "execution_count": 7,
   "id": "8cfd2e7d",
   "metadata": {},
   "outputs": [],
   "source": [
    "lgbtq_keywords = [ 'lgbt' , 'lgbtq' ,\n",
    "                  'gay' , 'gays' , 'gaycharacter' , 'gaykiss' , 'gayinterest' , \n",
    "                  'lesbian' , 'lesbians' , 'lesbianinterest' , \n",
    "                  'queer' , \n",
    "                  'trans' , 'transsexual' , 'transwoman' , 'transman' , 'transgender' , \n",
    "                  'bisexual']"
   ]
  },
  {
   "cell_type": "code",
   "execution_count": 8,
   "id": "67f00340",
   "metadata": {},
   "outputs": [],
   "source": [
    "df_rows = []\n",
    "for k,v in tag_dict.items():\n",
    "    isitgay = sum([ (re.sub( r'\\W+', '', vv) in lgbtq_keywords) for vv in v])\n",
    "    df_rows.append( [ k , isitgay , len(v) ] )  "
   ]
  },
  {
   "cell_type": "code",
   "execution_count": 9,
   "id": "aae6de39",
   "metadata": {},
   "outputs": [],
   "source": [
    "gay_df = pd.DataFrame(df_rows, columns = ['imdbid','lgbtq_keywords_num','keywords_num'])"
   ]
  },
  {
   "cell_type": "code",
   "execution_count": 10,
   "id": "6776639e",
   "metadata": {},
   "outputs": [],
   "source": [
    "df = pd.merge( bechdel_films , gay_df , how = 'inner')"
   ]
  },
  {
   "cell_type": "code",
   "execution_count": 11,
   "id": "dc851221",
   "metadata": {},
   "outputs": [
    {
     "data": {
      "text/html": [
       "<div>\n",
       "<style scoped>\n",
       "    .dataframe tbody tr th:only-of-type {\n",
       "        vertical-align: middle;\n",
       "    }\n",
       "\n",
       "    .dataframe tbody tr th {\n",
       "        vertical-align: top;\n",
       "    }\n",
       "\n",
       "    .dataframe thead th {\n",
       "        text-align: right;\n",
       "    }\n",
       "</style>\n",
       "<table border=\"1\" class=\"dataframe\">\n",
       "  <thead>\n",
       "    <tr style=\"text-align: right;\">\n",
       "      <th></th>\n",
       "      <th>year</th>\n",
       "      <th>rating</th>\n",
       "      <th>id</th>\n",
       "      <th>title</th>\n",
       "      <th>imdbid</th>\n",
       "      <th>lgbtq_keywords_num</th>\n",
       "      <th>keywords_num</th>\n",
       "    </tr>\n",
       "  </thead>\n",
       "  <tbody>\n",
       "    <tr>\n",
       "      <th>52</th>\n",
       "      <td>1894</td>\n",
       "      <td>0</td>\n",
       "      <td>9654</td>\n",
       "      <td>Dickson Experimental Sound Film</td>\n",
       "      <td>0177707</td>\n",
       "      <td>2</td>\n",
       "      <td>16</td>\n",
       "    </tr>\n",
       "    <tr>\n",
       "      <th>123</th>\n",
       "      <td>1907</td>\n",
       "      <td>0</td>\n",
       "      <td>5223</td>\n",
       "      <td>Eclipse: Courtship of the Sun and Moon, The</td>\n",
       "      <td>0215737</td>\n",
       "      <td>2</td>\n",
       "      <td>12</td>\n",
       "    </tr>\n",
       "    <tr>\n",
       "      <th>137</th>\n",
       "      <td>1914</td>\n",
       "      <td>2</td>\n",
       "      <td>4457</td>\n",
       "      <td>A Florida Enchantment</td>\n",
       "      <td>0003973</td>\n",
       "      <td>4</td>\n",
       "      <td>28</td>\n",
       "    </tr>\n",
       "    <tr>\n",
       "      <th>211</th>\n",
       "      <td>1927</td>\n",
       "      <td>1</td>\n",
       "      <td>3118</td>\n",
       "      <td>Wings</td>\n",
       "      <td>0018578</td>\n",
       "      <td>4</td>\n",
       "      <td>73</td>\n",
       "    </tr>\n",
       "    <tr>\n",
       "      <th>213</th>\n",
       "      <td>1927</td>\n",
       "      <td>1</td>\n",
       "      <td>7324</td>\n",
       "      <td>Downhill [When Boys Leave Home]</td>\n",
       "      <td>0017825</td>\n",
       "      <td>2</td>\n",
       "      <td>74</td>\n",
       "    </tr>\n",
       "    <tr>\n",
       "      <th>...</th>\n",
       "      <td>...</td>\n",
       "      <td>...</td>\n",
       "      <td>...</td>\n",
       "      <td>...</td>\n",
       "      <td>...</td>\n",
       "      <td>...</td>\n",
       "      <td>...</td>\n",
       "    </tr>\n",
       "    <tr>\n",
       "      <th>9399</th>\n",
       "      <td>2021</td>\n",
       "      <td>3</td>\n",
       "      <td>10157</td>\n",
       "      <td>West Side Story</td>\n",
       "      <td>3581652</td>\n",
       "      <td>1</td>\n",
       "      <td>178</td>\n",
       "    </tr>\n",
       "    <tr>\n",
       "      <th>9401</th>\n",
       "      <td>2021</td>\n",
       "      <td>3</td>\n",
       "      <td>10161</td>\n",
       "      <td>Single All The Way</td>\n",
       "      <td>14315756</td>\n",
       "      <td>4</td>\n",
       "      <td>55</td>\n",
       "    </tr>\n",
       "    <tr>\n",
       "      <th>9407</th>\n",
       "      <td>2021</td>\n",
       "      <td>3</td>\n",
       "      <td>10185</td>\n",
       "      <td>Licorice Pizza</td>\n",
       "      <td>11271038</td>\n",
       "      <td>1</td>\n",
       "      <td>321</td>\n",
       "    </tr>\n",
       "    <tr>\n",
       "      <th>9410</th>\n",
       "      <td>2021</td>\n",
       "      <td>3</td>\n",
       "      <td>10190</td>\n",
       "      <td>tick...tick..BOOM!</td>\n",
       "      <td>8721424</td>\n",
       "      <td>4</td>\n",
       "      <td>100</td>\n",
       "    </tr>\n",
       "    <tr>\n",
       "      <th>9414</th>\n",
       "      <td>2021</td>\n",
       "      <td>0</td>\n",
       "      <td>10202</td>\n",
       "      <td>Power of the Dog, The</td>\n",
       "      <td>10293406</td>\n",
       "      <td>3</td>\n",
       "      <td>174</td>\n",
       "    </tr>\n",
       "  </tbody>\n",
       "</table>\n",
       "<p>1087 rows × 7 columns</p>\n",
       "</div>"
      ],
      "text/plain": [
       "      year rating     id                                        title  \\\n",
       "52    1894      0   9654              Dickson Experimental Sound Film   \n",
       "123   1907      0   5223  Eclipse: Courtship of the Sun and Moon, The   \n",
       "137   1914      2   4457                        A Florida Enchantment   \n",
       "211   1927      1   3118                                        Wings   \n",
       "213   1927      1   7324              Downhill [When Boys Leave Home]   \n",
       "...    ...    ...    ...                                          ...   \n",
       "9399  2021      3  10157                              West Side Story   \n",
       "9401  2021      3  10161                           Single All The Way   \n",
       "9407  2021      3  10185                               Licorice Pizza   \n",
       "9410  2021      3  10190                           tick...tick..BOOM!   \n",
       "9414  2021      0  10202                        Power of the Dog, The   \n",
       "\n",
       "        imdbid  lgbtq_keywords_num  keywords_num  \n",
       "52     0177707                   2            16  \n",
       "123    0215737                   2            12  \n",
       "137    0003973                   4            28  \n",
       "211    0018578                   4            73  \n",
       "213    0017825                   2            74  \n",
       "...        ...                 ...           ...  \n",
       "9399   3581652                   1           178  \n",
       "9401  14315756                   4            55  \n",
       "9407  11271038                   1           321  \n",
       "9410   8721424                   4           100  \n",
       "9414  10293406                   3           174  \n",
       "\n",
       "[1087 rows x 7 columns]"
      ]
     },
     "execution_count": 11,
     "metadata": {},
     "output_type": "execute_result"
    }
   ],
   "source": [
    "df[ df['lgbtq_keywords_num']  > 0 ]"
   ]
  },
  {
   "cell_type": "code",
   "execution_count": 12,
   "id": "3c21cd59",
   "metadata": {},
   "outputs": [],
   "source": [
    "df.to_csv('data/bechdel_films_ifgay.csv' , index = False )"
   ]
  },
  {
   "cell_type": "code",
   "execution_count": 14,
   "id": "43e0f5c3",
   "metadata": {},
   "outputs": [],
   "source": [
    "df = pd.read_csv('data/bechdel_films_ifgay.csv' , dtype = str)"
   ]
  },
  {
   "cell_type": "markdown",
   "id": "c9f15ecb",
   "metadata": {},
   "source": [
    "We read everything as string, some columns are numeric, so let's transform them. "
   ]
  },
  {
   "cell_type": "code",
   "execution_count": 16,
   "id": "1dd47515",
   "metadata": {},
   "outputs": [],
   "source": [
    "numeric_cols = ['year' , 'rating' , 'lgbtq_keywords_num' , 'keywords_num']\n",
    "\n",
    "for i in numeric_cols:\n",
    "    df[i] = pd.to_numeric(df[i])"
   ]
  }
 ],
 "metadata": {
  "kernelspec": {
   "display_name": "Python 3 (ipykernel)",
   "language": "python",
   "name": "python3"
  },
  "language_info": {
   "codemirror_mode": {
    "name": "ipython",
    "version": 3
   },
   "file_extension": ".py",
   "mimetype": "text/x-python",
   "name": "python",
   "nbconvert_exporter": "python",
   "pygments_lexer": "ipython3",
   "version": "3.9.7"
  }
 },
 "nbformat": 4,
 "nbformat_minor": 5
}
