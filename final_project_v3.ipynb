{
 "cells": [
  {
   "cell_type": "markdown",
   "id": "fe65c621",
   "metadata": {},
   "source": [
    "### Coding 3: Final Assignment - Bechdel Test Investigation\n",
    "#### Peter Endes-Nagy and Nadine Levin"
   ]
  },
  {
   "cell_type": "markdown",
   "id": "78f094f3",
   "metadata": {},
   "source": [
    "## Introduction\n",
    "\n",
    "Lorem ipsum\n",
    "\n",
    "*Ideas*\n",
    "1. Scrape IMDb site for LGBT films of last 10 years to compare to popular films of last 10 years\n",
    "2. Investigate if LGBT films score higher on the Bechdel test than popular films\n",
    "3. Investigate if women direct films that score higher on the Bechdel test\n"
   ]
  },
  {
   "cell_type": "markdown",
   "id": "bb038411",
   "metadata": {},
   "source": [
    "*Resources* \n",
    "1. https://data.world/sharon/bechdel-test\n",
    "2. https://bechdeltest.com/\n",
    "3. https://www.kaggle.com/rounakbanik/the-movies-dataset\n",
    "4. https://www.themoviedb.org/documentation/api"
   ]
  },
  {
   "cell_type": "code",
   "execution_count": 496,
   "id": "c874b47e",
   "metadata": {},
   "outputs": [],
   "source": [
    "import pandas as pd \n",
    "import numpy as np \n",
    "import re\n",
    "import requests\n",
    "from bs4 import BeautifulSoup\n",
    "import time\n",
    "import json\n",
    "import string\n",
    "import html\n",
    "import os\n",
    "import seaborn as sns\n",
    "#!pip install gender-guesser\n",
    "import gender_guesser.detector as gen \n",
    "import matplotlib.pyplot as plt"
   ]
  },
  {
   "cell_type": "markdown",
   "id": "332528d3",
   "metadata": {},
   "source": [
    "### Base dataset\n",
    "\n",
    "Our base is the full Bechdel dataset as the Bechdel score is one of our key variables. Called via the Bechdel API only once, the curators of the dataset explicitly ask us not to call it too often.  \n",
    "\n",
    "In later steps, we:  \n",
    "1) Scrape the tags associated with these movies from the IMDb website to figure out the LGBTQ+ films  \n",
    "2) Get additional data on the movies via OMDb API"
   ]
  },
  {
   "cell_type": "code",
   "execution_count": null,
   "id": "2cbeac35",
   "metadata": {},
   "outputs": [],
   "source": [
    "bechdel_films = pd.read_json('http://bechdeltest.com/api/v1/getAllMovies') "
   ]
  },
  {
   "cell_type": "markdown",
   "id": "c55ab9e5",
   "metadata": {},
   "source": [
    "It's HTML encoded, so let's clean the Movie Titles:"
   ]
  },
  {
   "cell_type": "code",
   "execution_count": null,
   "id": "424662e9",
   "metadata": {},
   "outputs": [],
   "source": [
    "bechdel_films['title'] = bechdel_films['title'].apply(lambda x: html.unescape(x) )"
   ]
  },
  {
   "cell_type": "markdown",
   "id": "8961624c",
   "metadata": {},
   "source": [
    "Save it into a .csv, so we won't need to abuse the Bechdel API server: "
   ]
  },
  {
   "cell_type": "code",
   "execution_count": null,
   "id": "ce568520",
   "metadata": {},
   "outputs": [],
   "source": [
    "#bechdel_films.to_csv( 'data/bechdel_films.csv' , index = False , encoding = 'utf-8' )"
   ]
  },
  {
   "cell_type": "markdown",
   "id": "a1782ccd",
   "metadata": {},
   "source": [
    "Read back the .csv into a dataframe for later use. Variable types specified as string, otherwise the imdb id's are read as float types. "
   ]
  },
  {
   "cell_type": "code",
   "execution_count": 77,
   "id": "c932b56d",
   "metadata": {},
   "outputs": [
    {
     "name": "stderr",
     "output_type": "stream",
     "text": [
      "/var/folders/xg/n4kbhz8536n26ctz3c749pd80000gn/T/ipykernel_5143/2103817149.py:3: FutureWarning: In a future version of pandas all arguments of DataFrame.drop except for the argument 'labels' will be keyword-only\n",
      "  bechdel_films = bechdel_films[ bechdel_films.imdbid.notnull() ].reset_index().drop( ['index' , 'id'] , 1 )\n"
     ]
    }
   ],
   "source": [
    "bechdel_films = pd.read_csv('https://raw.githubusercontent.com/nadineisabel/ceu_coding3-final_project/main/data/bechdel_films.csv' , dtype = str , encoding = 'utf-8' ) \n",
    "\n",
    "bechdel_films = bechdel_films[ bechdel_films.imdbid.notnull() ].reset_index().drop( ['index' , 'id'] , 1 )"
   ]
  },
  {
   "cell_type": "markdown",
   "id": "e37123fa",
   "metadata": {},
   "source": [
    "### Scraping IMDb for LGBTQ+ tags\n",
    "\n",
    "We (try to) scrape every film present in the Bechdel dataset.  \n",
    "The list of tags are saved into a dictionary for later use.  \n",
    "By having the full list of tags for every film, the data can be used for other projects as well. \n",
    "\n",
    "Warning: this code chunk takes hours (roughly 1 second per IMDb Id's and we have over 9000), the results are saved into a .npy file and read back.  \n",
    "\n",
    "As the code was interrupted as we worked on it, the code below is the \"final\" product that reads back the already scraped dictionary and checks which Id is left to be scraped. Without the \"already scraped base\", an empty dictionary should be created first.   \n",
    "We manually rerun it as long as we reached the final result, but it can be also automated with a while clausule that keeps recycling the id's from the Bechdel dataset until everything is okay.  "
   ]
  },
  {
   "cell_type": "code",
   "execution_count": 78,
   "id": "9b880785",
   "metadata": {},
   "outputs": [
    {
     "name": "stdout",
     "output_type": "stream",
     "text": [
      "Loaded tag dictionary successfully.\n"
     ]
    }
   ],
   "source": [
    "try: \n",
    "    tag_dict = np.load('data/tag_dictionary.npy', allow_pickle = True ).item()\n",
    "    print(\"Loaded tag dictionary successfully.\")\n",
    "except FileNotFoundError:\n",
    "    print(\"We haven't scraped anything so far, so let's create and empty dictionary.\")\n",
    "    tag_dict = {}"
   ]
  },
  {
   "cell_type": "code",
   "execution_count": 38,
   "id": "d075d26e",
   "metadata": {},
   "outputs": [
    {
     "data": {
      "text/plain": [
       "9410"
      ]
     },
     "execution_count": 38,
     "metadata": {},
     "output_type": "execute_result"
    }
   ],
   "source": [
    "len(tag_dict)"
   ]
  },
  {
   "cell_type": "code",
   "execution_count": 39,
   "id": "2b4f1752",
   "metadata": {},
   "outputs": [
    {
     "data": {
      "text/plain": [
       "0"
      ]
     },
     "execution_count": 39,
     "metadata": {},
     "output_type": "execute_result"
    }
   ],
   "source": [
    "to_scrape = [e for e in bechdel_films['imdbid'].to_list() if e not in list(tag_dict.keys()) ]\n",
    "len(to_scrape)\n",
    "\n",
    "#it is 0 length, as we scraped everything already. "
   ]
  },
  {
   "cell_type": "code",
   "execution_count": null,
   "id": "a82ca500",
   "metadata": {},
   "outputs": [],
   "source": [
    "j = 0\n",
    "for i in to_scrape:\n",
    "    try: \n",
    "        res = requests.get(\"https://www.imdb.com/title/tt\" + i + \"/keywords?ref_=tt_stry_kw\")\n",
    "        soup = BeautifulSoup(res.text, 'html.parser')\n",
    "        taglist = soup.find_all('div' , class_=\"sodatext\")\n",
    "        tag_dict[i] = [ j.text.strip('\\n') for j in taglist ]\n",
    "        j = j + 1 \n",
    "    except Exception as err: \n",
    "        print(\"For IMDb Id: \" + str(imdb_id))\n",
    "        print(e)"
   ]
  },
  {
   "cell_type": "code",
   "execution_count": null,
   "id": "20f9f53c",
   "metadata": {},
   "outputs": [],
   "source": [
    "#np.save('data/tag_dictionary.npy', tag_dict)"
   ]
  },
  {
   "cell_type": "code",
   "execution_count": 6,
   "id": "e661a912",
   "metadata": {},
   "outputs": [],
   "source": [
    "tag_dict = np.load('data/tag_dictionary.npy', allow_pickle = True ).item()"
   ]
  },
  {
   "cell_type": "markdown",
   "id": "33364e08",
   "metadata": {},
   "source": [
    "### Create LGBTQ+ variable\n",
    "Let's define our LGBTQ keywords first.    \n",
    "\n",
    "By checking if a film is LGBTQ+ related, we iterate through the tags/keywords scraped from IMDb and check how many of the keywords (cleaned from punctuation, special characters) is in the the LGBTQ+ keyword list.  \n",
    "\n",
    "We save it into a dataframe, with following columns: IMDb ID (for joins), number of keywords scraped (it has a meaning if zero), number of LGBTQ+ keyword spotted.  "
   ]
  },
  {
   "cell_type": "code",
   "execution_count": 79,
   "id": "c6f91462",
   "metadata": {},
   "outputs": [],
   "source": [
    "lgbtq_keywords = [ 'lgbt' , 'lgbtq' ,\n",
    "                  'gay' , 'gays' , 'gaycharacter' , 'gaykiss' , 'gayinterest' , \n",
    "                  'lesbian' , 'lesbians' , 'lesbianinterest' , \n",
    "                  'queer' , \n",
    "                  'trans' , 'transsexual' , 'transwoman' , 'transman' , 'transgender' , \n",
    "                  'bisexual']"
   ]
  },
  {
   "cell_type": "code",
   "execution_count": 80,
   "id": "35b00e0f",
   "metadata": {},
   "outputs": [],
   "source": [
    "df_rows = []\n",
    "for k , v in tag_dict.items():\n",
    "    how_gay = sum([ (re.sub( r'\\W+', '', vv) in lgbtq_keywords) for vv in v] )\n",
    "    df_rows.append( [ k , how_gay , len(v) ] ) "
   ]
  },
  {
   "cell_type": "code",
   "execution_count": 81,
   "id": "d5b9de3b",
   "metadata": {},
   "outputs": [],
   "source": [
    "gay_df = pd.DataFrame( df_rows , columns = ['imdbid','lgbtq_keywords_num','keywords_num'])"
   ]
  },
  {
   "cell_type": "markdown",
   "id": "55bc5e2c",
   "metadata": {},
   "source": [
    "Time to merge with the Bechdel dataset. "
   ]
  },
  {
   "cell_type": "code",
   "execution_count": 82,
   "id": "3523fbe0",
   "metadata": {},
   "outputs": [],
   "source": [
    "df = pd.merge( bechdel_films , gay_df , how = 'inner')"
   ]
  },
  {
   "cell_type": "code",
   "execution_count": 83,
   "id": "49ea0052",
   "metadata": {},
   "outputs": [
    {
     "data": {
      "text/html": [
       "<div>\n",
       "<style scoped>\n",
       "    .dataframe tbody tr th:only-of-type {\n",
       "        vertical-align: middle;\n",
       "    }\n",
       "\n",
       "    .dataframe tbody tr th {\n",
       "        vertical-align: top;\n",
       "    }\n",
       "\n",
       "    .dataframe thead th {\n",
       "        text-align: right;\n",
       "    }\n",
       "</style>\n",
       "<table border=\"1\" class=\"dataframe\">\n",
       "  <thead>\n",
       "    <tr style=\"text-align: right;\">\n",
       "      <th></th>\n",
       "      <th>title</th>\n",
       "      <th>imdbid</th>\n",
       "      <th>year</th>\n",
       "      <th>rating</th>\n",
       "      <th>lgbtq_keywords_num</th>\n",
       "      <th>keywords_num</th>\n",
       "    </tr>\n",
       "  </thead>\n",
       "  <tbody>\n",
       "    <tr>\n",
       "      <th>52</th>\n",
       "      <td>Dickson Experimental Sound Film</td>\n",
       "      <td>0177707</td>\n",
       "      <td>1894</td>\n",
       "      <td>0</td>\n",
       "      <td>2</td>\n",
       "      <td>16</td>\n",
       "    </tr>\n",
       "    <tr>\n",
       "      <th>123</th>\n",
       "      <td>Eclipse: Courtship of the Sun and Moon, The</td>\n",
       "      <td>0215737</td>\n",
       "      <td>1907</td>\n",
       "      <td>0</td>\n",
       "      <td>2</td>\n",
       "      <td>12</td>\n",
       "    </tr>\n",
       "    <tr>\n",
       "      <th>137</th>\n",
       "      <td>A Florida Enchantment</td>\n",
       "      <td>0003973</td>\n",
       "      <td>1914</td>\n",
       "      <td>2</td>\n",
       "      <td>4</td>\n",
       "      <td>28</td>\n",
       "    </tr>\n",
       "    <tr>\n",
       "      <th>211</th>\n",
       "      <td>Wings</td>\n",
       "      <td>0018578</td>\n",
       "      <td>1927</td>\n",
       "      <td>1</td>\n",
       "      <td>4</td>\n",
       "      <td>73</td>\n",
       "    </tr>\n",
       "    <tr>\n",
       "      <th>213</th>\n",
       "      <td>Downhill [When Boys Leave Home]</td>\n",
       "      <td>0017825</td>\n",
       "      <td>1927</td>\n",
       "      <td>1</td>\n",
       "      <td>2</td>\n",
       "      <td>74</td>\n",
       "    </tr>\n",
       "    <tr>\n",
       "      <th>232</th>\n",
       "      <td>Pandora's Box (Die Büchse der Pandora)</td>\n",
       "      <td>0018737</td>\n",
       "      <td>1929</td>\n",
       "      <td>3</td>\n",
       "      <td>3</td>\n",
       "      <td>122</td>\n",
       "    </tr>\n",
       "    <tr>\n",
       "      <th>250</th>\n",
       "      <td>Mädchen in Uniform</td>\n",
       "      <td>0022183</td>\n",
       "      <td>1931</td>\n",
       "      <td>3</td>\n",
       "      <td>1</td>\n",
       "      <td>34</td>\n",
       "    </tr>\n",
       "    <tr>\n",
       "      <th>360</th>\n",
       "      <td>Mandarin Mystery, The</td>\n",
       "      <td>0029207</td>\n",
       "      <td>1936</td>\n",
       "      <td>3</td>\n",
       "      <td>1</td>\n",
       "      <td>51</td>\n",
       "    </tr>\n",
       "    <tr>\n",
       "      <th>373</th>\n",
       "      <td>Dracula's Daughter</td>\n",
       "      <td>0027545</td>\n",
       "      <td>1936</td>\n",
       "      <td>3</td>\n",
       "      <td>1</td>\n",
       "      <td>55</td>\n",
       "    </tr>\n",
       "    <tr>\n",
       "      <th>409</th>\n",
       "      <td>Wizard of Oz, The</td>\n",
       "      <td>0032138</td>\n",
       "      <td>1939</td>\n",
       "      <td>3</td>\n",
       "      <td>2</td>\n",
       "      <td>304</td>\n",
       "    </tr>\n",
       "  </tbody>\n",
       "</table>\n",
       "</div>"
      ],
      "text/plain": [
       "                                           title   imdbid  year rating  \\\n",
       "52               Dickson Experimental Sound Film  0177707  1894      0   \n",
       "123  Eclipse: Courtship of the Sun and Moon, The  0215737  1907      0   \n",
       "137                        A Florida Enchantment  0003973  1914      2   \n",
       "211                                        Wings  0018578  1927      1   \n",
       "213              Downhill [When Boys Leave Home]  0017825  1927      1   \n",
       "232       Pandora's Box (Die Büchse der Pandora)  0018737  1929      3   \n",
       "250                           Mädchen in Uniform  0022183  1931      3   \n",
       "360                        Mandarin Mystery, The  0029207  1936      3   \n",
       "373                           Dracula's Daughter  0027545  1936      3   \n",
       "409                            Wizard of Oz, The  0032138  1939      3   \n",
       "\n",
       "     lgbtq_keywords_num  keywords_num  \n",
       "52                    2            16  \n",
       "123                   2            12  \n",
       "137                   4            28  \n",
       "211                   4            73  \n",
       "213                   2            74  \n",
       "232                   3           122  \n",
       "250                   1            34  \n",
       "360                   1            51  \n",
       "373                   1            55  \n",
       "409                   2           304  "
      ]
     },
     "execution_count": 83,
     "metadata": {},
     "output_type": "execute_result"
    }
   ],
   "source": [
    "# Quick glimpse\n",
    "df[ df['lgbtq_keywords_num']  > 0 ].head(10)"
   ]
  },
  {
   "cell_type": "markdown",
   "id": "1eff23cd",
   "metadata": {},
   "source": [
    "We have LGBTQ+ relevant films even among the oldies, and the tags are suprisingly on point. For instance the Die Büchse der Pandora (1929) contains “probably the first explicitly drawn lesbian character” in cinematic history according to film historian Vito Russo. \"Good-old-times\" in the Weimar era Berlin... Some other films, like the Wizard of Oz has a strong cult in the (American) LGBTQ+ community - see the term \"Friends of Dorothy\" -, but they don't touch the topic in the film.    \n",
    "Also woth noting, that these LGBTQ+ oldies all passed the Bechdel-test (except for the first 2, that are silent films so no chance for a conversation between 2 female characters...).  \n",
    "\n",
    "The tags seem to be user-curated on IMDb, so we shouldn't take everything for granted, but still a good performance.  "
   ]
  },
  {
   "cell_type": "markdown",
   "id": "4e9644c3",
   "metadata": {},
   "source": [
    "### OMDb API\n",
    "Enriching our dataset, we use the OMDb API (alternatively the IMDb website could be scraped for this information as well).  \n",
    "\n",
    "Same strategy as with scraping, the already retrieved imdb Id's won't be used. We read the already requested dictionary from a file, if it doesn't exist, an empty dictionary is created. Unused imdb id's are used for the API request only.  \n",
    "\n",
    "The API requires an API key and comes with a daily 1.000 limit (in reality we actually split the dataset into 2 and run the codes separately, then later merged the result. Here, a one window code is presented). We stocked up with a bunch of API keys by using various e-mail addresses, so we don't run out of them too soon.  \n",
    "The code recycles the API keys. If it runs into a 'Request limit reached!' error message, it removes the API key from the list and tries until it finds an API key with free limits - see the while clausule in the loop. By only using the unrequested imdb id's (see above), we had the chance to run it on multiple days until we had (almost) everything.  "
   ]
  },
  {
   "cell_type": "code",
   "execution_count": 84,
   "id": "379da6f7",
   "metadata": {},
   "outputs": [
    {
     "name": "stdout",
     "output_type": "stream",
     "text": [
      "Loaded resp_json dictionary successfully.\n"
     ]
    }
   ],
   "source": [
    "try: \n",
    "    resp_json_dict = np.load('data/resp_json_dict.npy', allow_pickle = True ).item()\n",
    "    print(\"Loaded resp_json dictionary successfully.\")\n",
    "except FileNotFoundError:\n",
    "    print(\"We haven't requested anything so far, so let's create and empty dictionary\")\n",
    "    resp_json_dict = {}"
   ]
  },
  {
   "cell_type": "code",
   "execution_count": 85,
   "id": "d28c2551",
   "metadata": {},
   "outputs": [
    {
     "data": {
      "text/plain": [
       "0"
      ]
     },
     "execution_count": 85,
     "metadata": {},
     "output_type": "execute_result"
    }
   ],
   "source": [
    "list_of_imdb_ids = [e for e in df['imdbid'].to_list() if e not in list(resp_json_dict.keys()) ]\n",
    "len(list_of_imdb_ids)\n",
    "\n",
    "#it's empty as well, we got everything already"
   ]
  },
  {
   "cell_type": "code",
   "execution_count": 14,
   "id": "ea340d42",
   "metadata": {},
   "outputs": [],
   "source": [
    "API_keys = ['bdcace91' , \n",
    "           '5b1dd383' , \n",
    "           '18eecc1c' , \n",
    "           '59f678e9' , \n",
    "           'ea5d7d0c',\n",
    "           '7ecc3518' , \n",
    "           'efbb5d26' , \n",
    "           '101156d4' , \n",
    "           '78906128' , \n",
    "           'c0bebd87' , \n",
    "           '7dfca6b4']"
   ]
  },
  {
   "cell_type": "code",
   "execution_count": null,
   "id": "242d1bf2",
   "metadata": {},
   "outputs": [],
   "source": [
    "for imdb_id in list_of_imdb_ids:\n",
    "    try:\n",
    "        url = 'http://www.omdbapi.com/?i=tt' + imdb_id + '&apikey=' + str(API_keys[0])\n",
    "        resp = requests.get(url)        \n",
    "        resp_json = json.loads(resp.text)\n",
    "        \n",
    "        #if we happen to run into API limit (1.000 calls per day) and the error is because of the limit,\n",
    "        #this chunk overwrites the API_keys list, drops the first key we are using until no limit issue\n",
    "        while (resp_json['Response'] == 'False' and resp_json['Error'] == 'Request limit reached!'):\n",
    "            API_keys = API_keys[1:]\n",
    "            url = 'http://www.omdbapi.com/?i=tt' + imdb_id + '&apikey=' + str(API_keys[0])\n",
    "            resp = requests.get(url)        \n",
    "            resp_json = json.loads(resp.text)    \n",
    "        #save the json response into our dictionary    \n",
    "        resp_json_dict[imdb_id] = resp_json\n",
    "    \n",
    "    #if we encounter any type of errors, let's just print it, so the code running for hours doesn't get interrupted.\n",
    "    #we can return for the missing IMDb Id's later if feeling so\n",
    "    except Exception as e: \n",
    "        print(\"For IMDb Id: \" + str(imdb_id))\n",
    "        print(e)"
   ]
  },
  {
   "cell_type": "markdown",
   "id": "e4767a35",
   "metadata": {},
   "source": [
    "Save it (and load back)"
   ]
  },
  {
   "cell_type": "code",
   "execution_count": null,
   "id": "1e92bf0d",
   "metadata": {},
   "outputs": [],
   "source": [
    "#np.save('data/resp_json_dict.npy' , resp_json_dict)"
   ]
  },
  {
   "cell_type": "code",
   "execution_count": 15,
   "id": "5575741f",
   "metadata": {},
   "outputs": [],
   "source": [
    "resp_json_dict = np.load('data/resp_json_dict.npy', allow_pickle = True ).item()"
   ]
  },
  {
   "cell_type": "markdown",
   "id": "ba8d8458",
   "metadata": {},
   "source": [
    "### Clean the dictionary for df transformation\n",
    "We faced a few issues during the API requests.  \n",
    "1) The OMDb doesn't contain a few imdb id's (that are on IMDb as we scraped it!)  \n",
    "2) Sometimes it threw data errors (optionally we can return to the earlier step after we removed these from the dictionary and try the API again, but it won't make any good, error is returned for later tries as well)  \n",
    "3) Some elements should be a list, but they were returned as a string, separated by comma. See later the data structure exploration.  \n",
    "\n",
    "First, let's check the errors and remove them. "
   ]
  },
  {
   "cell_type": "code",
   "execution_count": 86,
   "id": "e261bdcf",
   "metadata": {},
   "outputs": [
    {
     "data": {
      "text/plain": [
       "9"
      ]
     },
     "execution_count": 86,
     "metadata": {},
     "output_type": "execute_result"
    }
   ],
   "source": [
    "id_remove = []\n",
    "for i in resp_json_dict.keys():\n",
    "    if len(resp_json_dict[i].keys()) == 2 :\n",
    "        id_remove.append(i)\n",
    "        \n",
    "len(id_remove)\n",
    "\n",
    "#we have 9 errors, it keeps being 9 no matter how many times we re-run it. 0.1% of the sample so not a big deal. "
   ]
  },
  {
   "cell_type": "code",
   "execution_count": 87,
   "id": "10147eea",
   "metadata": {},
   "outputs": [],
   "source": [
    "for i in id_remove:\n",
    "    del resp_json_dict[i]"
   ]
  },
  {
   "cell_type": "markdown",
   "id": "1bce726e",
   "metadata": {},
   "source": [
    "**Let's check out the datatypes inside of the dictionary**"
   ]
  },
  {
   "cell_type": "code",
   "execution_count": 88,
   "id": "b9779daa",
   "metadata": {},
   "outputs": [
    {
     "data": {
      "text/plain": [
       "{'Title': str,\n",
       " 'Year': str,\n",
       " 'Rated': str,\n",
       " 'Released': str,\n",
       " 'Runtime': str,\n",
       " 'Genre': str,\n",
       " 'Director': str,\n",
       " 'Writer': str,\n",
       " 'Actors': str,\n",
       " 'Plot': str,\n",
       " 'Language': str,\n",
       " 'Country': str,\n",
       " 'Awards': str,\n",
       " 'Poster': str,\n",
       " 'Ratings': list,\n",
       " 'Metascore': str,\n",
       " 'imdbRating': str,\n",
       " 'imdbVotes': str,\n",
       " 'imdbID': str,\n",
       " 'Type': str,\n",
       " 'DVD': str,\n",
       " 'BoxOffice': str,\n",
       " 'Production': str,\n",
       " 'Website': str,\n",
       " 'Response': str,\n",
       " 'Season': str,\n",
       " 'Episode': str,\n",
       " 'seriesID': str,\n",
       " 'totalSeasons': str}"
      ]
     },
     "execution_count": 88,
     "metadata": {},
     "output_type": "execute_result"
    }
   ],
   "source": [
    "key_content_types = {}\n",
    "for k , v in resp_json_dict.items():\n",
    "    for kk , vv in v.items():\n",
    "        key_content_types[kk] = type(vv)\n",
    "\n",
    "key_content_types"
   ]
  },
  {
   "cell_type": "markdown",
   "id": "bb60b419",
   "metadata": {},
   "source": [
    "Ratings is the only key with list values. The rest is string, even though some are lists in reality, separated by comma.  \n",
    "\n",
    "#### Focus on useful variables\n",
    "In the next steps, we are going to focus on variables useful for our analysis. The dictionary is saved, so our data can be enriched anytime with further features.  \n",
    "\n",
    "We are anyways iterating through the dictionary, so let's also add the missing keys with \"N/A\" values, so we won't need to raise exceptions or if statements in later codes in order to avoid IndexError.  "
   ]
  },
  {
   "cell_type": "code",
   "execution_count": 89,
   "id": "4b9a175f",
   "metadata": {},
   "outputs": [],
   "source": [
    "keys_to_be_kept = ['Released' , 'Runtime' , \n",
    "                   'Director' , 'Actors' , \n",
    "                   'Country' , \n",
    "                   'imdbRating' , 'imdbVotes' , \n",
    "                   'BoxOffice']\n",
    "\n",
    "for k , v in resp_json_dict.items():\n",
    "    for i in list(v.keys()):\n",
    "        if i not in keys_to_be_kept:\n",
    "            del v[i]\n",
    "            \n",
    "    for j in keys_to_be_kept:\n",
    "        if j not in v.keys():\n",
    "            v[j] = \"N/A\""
   ]
  },
  {
   "cell_type": "markdown",
   "id": "93fdd9dc",
   "metadata": {},
   "source": [
    "The following chunk reverses the original dictionary, what are all the (possible) values per all possible keys. This chunk was modified multiple times to check different keys, so we can have a look into it and know what should we do during the cleaning. An iterative and exploratory process, so we leave only an example and won't document everything the way we did.  \n",
    "\n",
    "The later cleaning steps are based on these explaratory iterations.  \n",
    "\n",
    "The example: checking if the currencies of the BoxOffice are in a consistent format and not \"lists in strings\" (starts with $ sign, no deciamals, comma is used as thousand separator or list?).  \n",
    "\n",
    "What we checked:     \n",
    "- Directors, actors, countries: really lists stored in string?  \n",
    "- Running time: everything in minutes?  \n",
    "- country: co-productions? if yes then ABC order or more important first?   \n",
    "- currency: $, th separator, decimals  "
   ]
  },
  {
   "cell_type": "code",
   "execution_count": 90,
   "id": "eac5f1f5",
   "metadata": {},
   "outputs": [],
   "source": [
    "key_contents = {}\n",
    "\n",
    "for i in keys_to_be_kept:\n",
    "    key_contents[i] = []\n",
    "    \n",
    "for k , v  in resp_json_dict.items():\n",
    "    for kk , vv in v.items():\n",
    "        if kk in list(key_contents.keys()):\n",
    "            key_contents[kk].append(vv)\n",
    "        "
   ]
  },
  {
   "cell_type": "code",
   "execution_count": 91,
   "id": "b2a208eb",
   "metadata": {},
   "outputs": [
    {
     "data": {
      "text/plain": [
       "{'$', 'N'}"
      ]
     },
     "execution_count": 91,
     "metadata": {},
     "output_type": "execute_result"
    }
   ],
   "source": [
    "currencies = []\n",
    "for i in list(set(key_contents['BoxOffice'])):\n",
    "    currencies.append(i[0])\n",
    "set(currencies)\n",
    "\n",
    "#everything in US dollars, N is the N/A"
   ]
  },
  {
   "cell_type": "markdown",
   "id": "b2f7649f",
   "metadata": {},
   "source": [
    "**Let's transform those \"lists stored in strings\" into real lists** to work with. Let's also create a new dictionary by copying the original, so we don't need to go back too much in case of problems. "
   ]
  },
  {
   "cell_type": "code",
   "execution_count": 92,
   "id": "c8023ac6",
   "metadata": {},
   "outputs": [],
   "source": [
    "fakestrings = ['Director' , 'Actors' , 'Country' ]\n",
    "clean_dict = resp_json_dict\n",
    "\n",
    "for j in list(resp_json_dict.keys()):\n",
    "    \n",
    "    for i in fakestrings:\n",
    "        clean_dict[j][i] = resp_json_dict[j][i].split(',')"
   ]
  },
  {
   "cell_type": "markdown",
   "id": "7e15f0ea",
   "metadata": {},
   "source": [
    "**Now, let's work with the country data.**  \n",
    "\n",
    "A large number of films is a co-production. As we investigated earlier, the countries are not in alphabetical order, the first country is the most relevant one.   \n",
    "- if there are more than one countries, a CoProduction variable is created (1: yes, 0: no, N/A)\n",
    "- only the first country is kept in the Country variable"
   ]
  },
  {
   "cell_type": "code",
   "execution_count": 93,
   "id": "8747a602",
   "metadata": {},
   "outputs": [],
   "source": [
    "for k , v in clean_dict.items():\n",
    "    if len( v['Country'] ) > 1 :\n",
    "        v['CoProduction'] = '1'\n",
    "    elif v['Country'][0] == \"N/A\" :\n",
    "        v['CoProduction'] = \"N/A\"\n",
    "    else: \n",
    "        v['CoProduction'] = \"0\"\n",
    "    v['Country'] = v['Country'][0]"
   ]
  },
  {
   "cell_type": "markdown",
   "id": "ba82de8b",
   "metadata": {},
   "source": [
    "### Gender recognition ML\n",
    "In order to make sense of the Directors and Actors data, we run a gender recognition ML tool on the dataset.  \n",
    "\n",
    "The ML tool takes the first name (fails on full name, so we take the name before the first white space) as an argument and returns wether it is (more likely) male or female, androgynous (can't decide), or unknown in their dictionary.  \n",
    "\n",
    "The director's gender is important for our research question.  \n",
    "The Actor's gender is practically reflected in the Bechdel Test, we rather use it to control for gay-male romance films that naturally fail on the Bechdel-test by design.  \n",
    "\n",
    "We won't care about N/A here, if the ML fails to recognise the name, then unknown is anyways going to be treated the same way.  "
   ]
  },
  {
   "cell_type": "code",
   "execution_count": 94,
   "id": "8e9342a4",
   "metadata": {},
   "outputs": [],
   "source": [
    "d = gen.Detector()\n",
    "\n",
    "for k , v in clean_dict.items():\n",
    "    v['DirectorGender'] = [ d.get_gender( i.split()[0]) for i in v['Director'] ]\n",
    "    v['ActorGender'] = [ d.get_gender( i.split()[0]) for i in v['Actors'] ]"
   ]
  },
  {
   "cell_type": "markdown",
   "id": "ba05406d",
   "metadata": {},
   "source": [
    "Summarise the results into single variables.  \n",
    "\n",
    "Director gender: if at least one of the directors is (more likely) female, it takes the value 'female'. Otherwise, if at least one is (more likely) male, then 'male', if everyone is unknown or ambigous angrogyn, then 'N/A'.\n",
    "\n",
    "Actors' gender: if ALL (more likely) male, then 'male'. Otherwise if at least one is identified as (more) female, then 'female', for the rest 'N/A'."
   ]
  },
  {
   "cell_type": "code",
   "execution_count": 95,
   "id": "c8379d30",
   "metadata": {},
   "outputs": [],
   "source": [
    "for k , v in clean_dict.items():\n",
    "    dir_male = sum( [ ( i in ['male' , 'mostly_male']) for i in v['DirectorGender'] ] )\n",
    "    dir_female = sum( [ ( i in ['female' , 'mostly_female']) for i in v['DirectorGender'] ] )\n",
    "    \n",
    "    if dir_female > 0:\n",
    "        v['DirectorGender'] = 'female'\n",
    "    elif dir_male > 0:\n",
    "        v['DirectorGender'] = 'male'\n",
    "    else: \n",
    "        v['DirectorGender'] = 'N/A'\n",
    "        \n",
    "    actor_male = sum( [ ( j in ['male' , 'mostly_male']) for j in v['ActorGender'] ] )\n",
    "    actor_female = sum( [ ( j in ['female' , 'mostly_female']) for j in v['ActorGender'] ] )\n",
    "    \n",
    "    if actor_male == len( v['ActorGender'] ):\n",
    "        v['ActorGender'] = 'male'\n",
    "    elif actor_female > 0:\n",
    "        v['ActorGender'] = 'female'\n",
    "    else: \n",
    "        v['ActorGender'] = 'N/A'"
   ]
  },
  {
   "cell_type": "markdown",
   "id": "04525443",
   "metadata": {},
   "source": [
    "Now, let's remove the lists, so we can simply transform the dictionary into a df:"
   ]
  },
  {
   "cell_type": "code",
   "execution_count": 96,
   "id": "4f9d6522",
   "metadata": {},
   "outputs": [],
   "source": [
    "for k , v in clean_dict.items():\n",
    "    del v['Actors']\n",
    "    del v['Director']"
   ]
  },
  {
   "cell_type": "markdown",
   "id": "84a64239",
   "metadata": {},
   "source": [
    "### Cleaning in pandas\n",
    "\n",
    "We used the dictionaries enough, let's transform the cleaned dictionary into a pandas df, merge with the Bechdel/LGBTQ+ dataset and execute the remaining cleaning steps there.  "
   ]
  },
  {
   "cell_type": "code",
   "execution_count": 119,
   "id": "41fd75a0",
   "metadata": {},
   "outputs": [
    {
     "data": {
      "text/html": [
       "<div>\n",
       "<style scoped>\n",
       "    .dataframe tbody tr th:only-of-type {\n",
       "        vertical-align: middle;\n",
       "    }\n",
       "\n",
       "    .dataframe tbody tr th {\n",
       "        vertical-align: top;\n",
       "    }\n",
       "\n",
       "    .dataframe thead th {\n",
       "        text-align: right;\n",
       "    }\n",
       "</style>\n",
       "<table border=\"1\" class=\"dataframe\">\n",
       "  <thead>\n",
       "    <tr style=\"text-align: right;\">\n",
       "      <th></th>\n",
       "      <th>imdbid</th>\n",
       "      <th>Released</th>\n",
       "      <th>Runtime</th>\n",
       "      <th>Country</th>\n",
       "      <th>imdbRating</th>\n",
       "      <th>imdbVotes</th>\n",
       "      <th>BoxOffice</th>\n",
       "      <th>CoProduction</th>\n",
       "      <th>DirectorGender</th>\n",
       "      <th>ActorGender</th>\n",
       "    </tr>\n",
       "  </thead>\n",
       "  <tbody>\n",
       "    <tr>\n",
       "      <th>0</th>\n",
       "      <td>0775529</td>\n",
       "      <td>01 Feb 2008</td>\n",
       "      <td>113 min</td>\n",
       "      <td>United States</td>\n",
       "      <td>7.1</td>\n",
       "      <td>37,122</td>\n",
       "      <td>$6,623,082</td>\n",
       "      <td>0</td>\n",
       "      <td>female</td>\n",
       "      <td>female</td>\n",
       "    </tr>\n",
       "    <tr>\n",
       "      <th>1</th>\n",
       "      <td>0459102</td>\n",
       "      <td>18 Oct 2007</td>\n",
       "      <td>141 min</td>\n",
       "      <td>Austria</td>\n",
       "      <td>7.0</td>\n",
       "      <td>5,807</td>\n",
       "      <td>N/A</td>\n",
       "      <td>1</td>\n",
       "      <td>male</td>\n",
       "      <td>female</td>\n",
       "    </tr>\n",
       "    <tr>\n",
       "      <th>2</th>\n",
       "      <td>0452702</td>\n",
       "      <td>20 Apr 2007</td>\n",
       "      <td>85 min</td>\n",
       "      <td>United States</td>\n",
       "      <td>6.2</td>\n",
       "      <td>99,055</td>\n",
       "      <td>$19,363,565</td>\n",
       "      <td>0</td>\n",
       "      <td>N/A</td>\n",
       "      <td>female</td>\n",
       "    </tr>\n",
       "    <tr>\n",
       "      <th>3</th>\n",
       "      <td>0480249</td>\n",
       "      <td>14 Dec 2007</td>\n",
       "      <td>101 min</td>\n",
       "      <td>United States</td>\n",
       "      <td>7.2</td>\n",
       "      <td>732,538</td>\n",
       "      <td>$256,393,010</td>\n",
       "      <td>0</td>\n",
       "      <td>male</td>\n",
       "      <td>female</td>\n",
       "    </tr>\n",
       "    <tr>\n",
       "      <th>4</th>\n",
       "      <td>0448134</td>\n",
       "      <td>27 Jul 2007</td>\n",
       "      <td>107 min</td>\n",
       "      <td>United Kingdom</td>\n",
       "      <td>7.2</td>\n",
       "      <td>245,858</td>\n",
       "      <td>$3,675,753</td>\n",
       "      <td>1</td>\n",
       "      <td>male</td>\n",
       "      <td>female</td>\n",
       "    </tr>\n",
       "  </tbody>\n",
       "</table>\n",
       "</div>"
      ],
      "text/plain": [
       "    imdbid     Released  Runtime         Country imdbRating imdbVotes  \\\n",
       "0  0775529  01 Feb 2008  113 min   United States        7.1    37,122   \n",
       "1  0459102  18 Oct 2007  141 min         Austria        7.0     5,807   \n",
       "2  0452702  20 Apr 2007   85 min   United States        6.2    99,055   \n",
       "3  0480249  14 Dec 2007  101 min   United States        7.2   732,538   \n",
       "4  0448134  27 Jul 2007  107 min  United Kingdom        7.2   245,858   \n",
       "\n",
       "      BoxOffice CoProduction DirectorGender ActorGender  \n",
       "0    $6,623,082            0         female      female  \n",
       "1           N/A            1           male      female  \n",
       "2   $19,363,565            0            N/A      female  \n",
       "3  $256,393,010            0           male      female  \n",
       "4    $3,675,753            1           male      female  "
      ]
     },
     "execution_count": 119,
     "metadata": {},
     "output_type": "execute_result"
    }
   ],
   "source": [
    "imdb_api_df = pd.DataFrame.from_dict( clean_dict , orient = 'index' )\n",
    "imdb_api_df.index.names = ['imdbid'] \n",
    "imdb_api_df.reset_index( inplace = True )\n",
    "imdb_api_df.head()"
   ]
  },
  {
   "cell_type": "code",
   "execution_count": 120,
   "id": "81dbbea3",
   "metadata": {},
   "outputs": [
    {
     "data": {
      "text/html": [
       "<div>\n",
       "<style scoped>\n",
       "    .dataframe tbody tr th:only-of-type {\n",
       "        vertical-align: middle;\n",
       "    }\n",
       "\n",
       "    .dataframe tbody tr th {\n",
       "        vertical-align: top;\n",
       "    }\n",
       "\n",
       "    .dataframe thead th {\n",
       "        text-align: right;\n",
       "    }\n",
       "</style>\n",
       "<table border=\"1\" class=\"dataframe\">\n",
       "  <thead>\n",
       "    <tr style=\"text-align: right;\">\n",
       "      <th></th>\n",
       "      <th>title</th>\n",
       "      <th>imdbid</th>\n",
       "      <th>year</th>\n",
       "      <th>rating</th>\n",
       "      <th>lgbtq_keywords_num</th>\n",
       "      <th>keywords_num</th>\n",
       "      <th>Released</th>\n",
       "      <th>Runtime</th>\n",
       "      <th>Country</th>\n",
       "      <th>imdbRating</th>\n",
       "      <th>imdbVotes</th>\n",
       "      <th>BoxOffice</th>\n",
       "      <th>CoProduction</th>\n",
       "      <th>DirectorGender</th>\n",
       "      <th>ActorGender</th>\n",
       "    </tr>\n",
       "  </thead>\n",
       "  <tbody>\n",
       "    <tr>\n",
       "      <th>9400</th>\n",
       "      <td>Being The Ricardos</td>\n",
       "      <td>4995540</td>\n",
       "      <td>2021</td>\n",
       "      <td>3</td>\n",
       "      <td>0</td>\n",
       "      <td>62</td>\n",
       "      <td>21 Dec 2021</td>\n",
       "      <td>131 min</td>\n",
       "      <td>United States</td>\n",
       "      <td>6.6</td>\n",
       "      <td>35,406</td>\n",
       "      <td>N/A</td>\n",
       "      <td>0</td>\n",
       "      <td>male</td>\n",
       "      <td>female</td>\n",
       "    </tr>\n",
       "    <tr>\n",
       "      <th>9401</th>\n",
       "      <td>Boiling Point</td>\n",
       "      <td>11127680</td>\n",
       "      <td>2021</td>\n",
       "      <td>3</td>\n",
       "      <td>0</td>\n",
       "      <td>45</td>\n",
       "      <td>07 Jan 2022</td>\n",
       "      <td>92 min</td>\n",
       "      <td>United Kingdom</td>\n",
       "      <td>7.5</td>\n",
       "      <td>7,617</td>\n",
       "      <td>N/A</td>\n",
       "      <td>0</td>\n",
       "      <td>male</td>\n",
       "      <td>female</td>\n",
       "    </tr>\n",
       "    <tr>\n",
       "      <th>9402</th>\n",
       "      <td>Power of the Dog, The</td>\n",
       "      <td>10293406</td>\n",
       "      <td>2021</td>\n",
       "      <td>0</td>\n",
       "      <td>3</td>\n",
       "      <td>174</td>\n",
       "      <td>01 Dec 2021</td>\n",
       "      <td>126 min</td>\n",
       "      <td>United Kingdom</td>\n",
       "      <td>6.9</td>\n",
       "      <td>118,298</td>\n",
       "      <td>N/A</td>\n",
       "      <td>1</td>\n",
       "      <td>female</td>\n",
       "      <td>female</td>\n",
       "    </tr>\n",
       "    <tr>\n",
       "      <th>9403</th>\n",
       "      <td>Mass</td>\n",
       "      <td>11389748</td>\n",
       "      <td>2021</td>\n",
       "      <td>3</td>\n",
       "      <td>0</td>\n",
       "      <td>10</td>\n",
       "      <td>15 Oct 2021</td>\n",
       "      <td>111 min</td>\n",
       "      <td>United States</td>\n",
       "      <td>7.7</td>\n",
       "      <td>9,486</td>\n",
       "      <td>$145,174</td>\n",
       "      <td>0</td>\n",
       "      <td>female</td>\n",
       "      <td>female</td>\n",
       "    </tr>\n",
       "    <tr>\n",
       "      <th>9404</th>\n",
       "      <td>355, The</td>\n",
       "      <td>8356942</td>\n",
       "      <td>2022</td>\n",
       "      <td>3</td>\n",
       "      <td>0</td>\n",
       "      <td>71</td>\n",
       "      <td>07 Jan 2022</td>\n",
       "      <td>122 min</td>\n",
       "      <td>United States</td>\n",
       "      <td>5.2</td>\n",
       "      <td>17,644</td>\n",
       "      <td>$14,570,455</td>\n",
       "      <td>1</td>\n",
       "      <td>male</td>\n",
       "      <td>female</td>\n",
       "    </tr>\n",
       "  </tbody>\n",
       "</table>\n",
       "</div>"
      ],
      "text/plain": [
       "                      title    imdbid  year rating  lgbtq_keywords_num  \\\n",
       "9400     Being The Ricardos   4995540  2021      3                   0   \n",
       "9401          Boiling Point  11127680  2021      3                   0   \n",
       "9402  Power of the Dog, The  10293406  2021      0                   3   \n",
       "9403                   Mass  11389748  2021      3                   0   \n",
       "9404               355, The   8356942  2022      3                   0   \n",
       "\n",
       "      keywords_num     Released  Runtime         Country imdbRating imdbVotes  \\\n",
       "9400            62  21 Dec 2021  131 min   United States        6.6    35,406   \n",
       "9401            45  07 Jan 2022   92 min  United Kingdom        7.5     7,617   \n",
       "9402           174  01 Dec 2021  126 min  United Kingdom        6.9   118,298   \n",
       "9403            10  15 Oct 2021  111 min   United States        7.7     9,486   \n",
       "9404            71  07 Jan 2022  122 min   United States        5.2    17,644   \n",
       "\n",
       "        BoxOffice CoProduction DirectorGender ActorGender  \n",
       "9400          N/A            0           male      female  \n",
       "9401          N/A            0           male      female  \n",
       "9402          N/A            1         female      female  \n",
       "9403     $145,174            0         female      female  \n",
       "9404  $14,570,455            1           male      female  "
      ]
     },
     "execution_count": 120,
     "metadata": {},
     "output_type": "execute_result"
    }
   ],
   "source": [
    "final_df = pd.merge( df , imdb_api_df ,\n",
    "                     how = 'inner' )\n",
    "final_df.tail()"
   ]
  },
  {
   "cell_type": "code",
   "execution_count": 121,
   "id": "bc475aea",
   "metadata": {},
   "outputs": [
    {
     "data": {
      "text/plain": [
       "title                 object\n",
       "imdbid                object\n",
       "year                  object\n",
       "rating                object\n",
       "lgbtq_keywords_num     int64\n",
       "keywords_num           int64\n",
       "Released              object\n",
       "Runtime               object\n",
       "Country               object\n",
       "imdbRating            object\n",
       "imdbVotes             object\n",
       "BoxOffice             object\n",
       "CoProduction          object\n",
       "DirectorGender        object\n",
       "ActorGender           object\n",
       "dtype: object"
      ]
     },
     "execution_count": 121,
     "metadata": {},
     "output_type": "execute_result"
    }
   ],
   "source": [
    "final_df.dtypes"
   ]
  },
  {
   "cell_type": "markdown",
   "id": "5b041188",
   "metadata": {},
   "source": [
    "**Let's clean the Runtime and BoxOffice variable and imdbVotes** from all non-numerical characters, so the commas (th separators), dollar sings, ' min' parts are removed. We checked that the formats are consistent, so no need to worry about various thousand separators, etc.  "
   ]
  },
  {
   "cell_type": "code",
   "execution_count": 122,
   "id": "54596ad6",
   "metadata": {},
   "outputs": [],
   "source": [
    "final_df['Runtime'] = final_df['Runtime'].apply(lambda x: re.sub( \"[^0-9]\", \"\", x ) )\n",
    "final_df['BoxOffice'] = final_df['BoxOffice'].apply(lambda x: re.sub( \"[^0-9]\", \"\", x ) )\n",
    "final_df['imdbVotes'] = final_df['imdbVotes'].apply(lambda x: re.sub( \"[^0-9]\", \"\", x ) )"
   ]
  },
  {
   "cell_type": "markdown",
   "id": "f72eb35a",
   "metadata": {},
   "source": [
    "It is enough information if the given film has at least one LGBTQ-related tag. The total numer of tags isn't relevant. "
   ]
  },
  {
   "cell_type": "code",
   "execution_count": 123,
   "id": "74ebe6f8",
   "metadata": {},
   "outputs": [],
   "source": [
    "final_df['IsItGay'] = final_df['lgbtq_keywords_num'].apply( lambda x: 1 if x > 0 else 0 )"
   ]
  },
  {
   "cell_type": "code",
   "execution_count": 124,
   "id": "7b43a1b3",
   "metadata": {},
   "outputs": [
    {
     "name": "stderr",
     "output_type": "stream",
     "text": [
      "/var/folders/xg/n4kbhz8536n26ctz3c749pd80000gn/T/ipykernel_5143/289946624.py:1: FutureWarning: In a future version of pandas all arguments of DataFrame.drop except for the argument 'labels' will be keyword-only\n",
      "  final_df = final_df.drop( ['lgbtq_keywords_num' , 'keywords_num'] , 1 )\n"
     ]
    }
   ],
   "source": [
    "final_df = final_df.drop( ['lgbtq_keywords_num' , 'keywords_num'] , 1 )"
   ]
  },
  {
   "cell_type": "markdown",
   "id": "4213067c",
   "metadata": {},
   "source": [
    "Finally, let's replace the empty cells and 'N/A' with real missing values"
   ]
  },
  {
   "cell_type": "code",
   "execution_count": 125,
   "id": "a244cce4",
   "metadata": {},
   "outputs": [],
   "source": [
    "final_df.replace('N/A', np.NaN , inplace = True )\n",
    "final_df.replace('', np.NaN , inplace = True )"
   ]
  },
  {
   "cell_type": "markdown",
   "id": "83115a8b",
   "metadata": {},
   "source": [
    "Changing column titled \"rating\" to \"bechdel_rating\" for ease of visualization and printing final result."
   ]
  },
  {
   "cell_type": "code",
   "execution_count": 132,
   "id": "28aa6f67",
   "metadata": {},
   "outputs": [
    {
     "data": {
      "text/html": [
       "<div>\n",
       "<style scoped>\n",
       "    .dataframe tbody tr th:only-of-type {\n",
       "        vertical-align: middle;\n",
       "    }\n",
       "\n",
       "    .dataframe tbody tr th {\n",
       "        vertical-align: top;\n",
       "    }\n",
       "\n",
       "    .dataframe thead th {\n",
       "        text-align: right;\n",
       "    }\n",
       "</style>\n",
       "<table border=\"1\" class=\"dataframe\">\n",
       "  <thead>\n",
       "    <tr style=\"text-align: right;\">\n",
       "      <th></th>\n",
       "      <th>title</th>\n",
       "      <th>imdbid</th>\n",
       "      <th>year</th>\n",
       "      <th>bechdel_rating</th>\n",
       "      <th>Released</th>\n",
       "      <th>Runtime</th>\n",
       "      <th>Country</th>\n",
       "      <th>imdbRating</th>\n",
       "      <th>imdbVotes</th>\n",
       "      <th>BoxOffice</th>\n",
       "      <th>CoProduction</th>\n",
       "      <th>DirectorGender</th>\n",
       "      <th>ActorGender</th>\n",
       "      <th>IsItGay</th>\n",
       "    </tr>\n",
       "  </thead>\n",
       "  <tbody>\n",
       "    <tr>\n",
       "      <th>0</th>\n",
       "      <td>Passage de Venus</td>\n",
       "      <td>3155794</td>\n",
       "      <td>1874</td>\n",
       "      <td>0</td>\n",
       "      <td>09 Dec 1874</td>\n",
       "      <td>1</td>\n",
       "      <td>France</td>\n",
       "      <td>6.9</td>\n",
       "      <td>1586</td>\n",
       "      <td>NaN</td>\n",
       "      <td>0</td>\n",
       "      <td>NaN</td>\n",
       "      <td>NaN</td>\n",
       "      <td>0</td>\n",
       "    </tr>\n",
       "    <tr>\n",
       "      <th>1</th>\n",
       "      <td>La Rosace Magique</td>\n",
       "      <td>14495706</td>\n",
       "      <td>1877</td>\n",
       "      <td>0</td>\n",
       "      <td>03 Jan 1877</td>\n",
       "      <td>1</td>\n",
       "      <td>France</td>\n",
       "      <td>NaN</td>\n",
       "      <td>86</td>\n",
       "      <td>NaN</td>\n",
       "      <td>0</td>\n",
       "      <td>NaN</td>\n",
       "      <td>NaN</td>\n",
       "      <td>0</td>\n",
       "    </tr>\n",
       "    <tr>\n",
       "      <th>2</th>\n",
       "      <td>Sallie Gardner at a Gallop</td>\n",
       "      <td>2221420</td>\n",
       "      <td>1878</td>\n",
       "      <td>0</td>\n",
       "      <td>15 Jun 1878</td>\n",
       "      <td>1</td>\n",
       "      <td>United States</td>\n",
       "      <td>7.4</td>\n",
       "      <td>2849</td>\n",
       "      <td>NaN</td>\n",
       "      <td>0</td>\n",
       "      <td>NaN</td>\n",
       "      <td>female</td>\n",
       "      <td>0</td>\n",
       "    </tr>\n",
       "    <tr>\n",
       "      <th>3</th>\n",
       "      <td>Le singe musicien</td>\n",
       "      <td>12592084</td>\n",
       "      <td>1878</td>\n",
       "      <td>0</td>\n",
       "      <td>07 May 1878</td>\n",
       "      <td>1</td>\n",
       "      <td>France</td>\n",
       "      <td>6.0</td>\n",
       "      <td>181</td>\n",
       "      <td>NaN</td>\n",
       "      <td>0</td>\n",
       "      <td>NaN</td>\n",
       "      <td>NaN</td>\n",
       "      <td>0</td>\n",
       "    </tr>\n",
       "    <tr>\n",
       "      <th>4</th>\n",
       "      <td>Athlete Swinging a Pick</td>\n",
       "      <td>7816420</td>\n",
       "      <td>1881</td>\n",
       "      <td>0</td>\n",
       "      <td>01 Jan 1881</td>\n",
       "      <td>1</td>\n",
       "      <td>United Kingdom</td>\n",
       "      <td>5.2</td>\n",
       "      <td>397</td>\n",
       "      <td>NaN</td>\n",
       "      <td>0</td>\n",
       "      <td>NaN</td>\n",
       "      <td>NaN</td>\n",
       "      <td>0</td>\n",
       "    </tr>\n",
       "  </tbody>\n",
       "</table>\n",
       "</div>"
      ],
      "text/plain": [
       "                        title    imdbid  year bechdel_rating     Released  \\\n",
       "0            Passage de Venus   3155794  1874              0  09 Dec 1874   \n",
       "1           La Rosace Magique  14495706  1877              0  03 Jan 1877   \n",
       "2  Sallie Gardner at a Gallop   2221420  1878              0  15 Jun 1878   \n",
       "3           Le singe musicien  12592084  1878              0  07 May 1878   \n",
       "4     Athlete Swinging a Pick   7816420  1881              0  01 Jan 1881   \n",
       "\n",
       "  Runtime         Country imdbRating imdbVotes BoxOffice CoProduction  \\\n",
       "0       1          France        6.9      1586       NaN            0   \n",
       "1       1          France        NaN        86       NaN            0   \n",
       "2       1   United States        7.4      2849       NaN            0   \n",
       "3       1          France        6.0       181       NaN            0   \n",
       "4       1  United Kingdom        5.2       397       NaN            0   \n",
       "\n",
       "  DirectorGender ActorGender  IsItGay  \n",
       "0            NaN         NaN        0  \n",
       "1            NaN         NaN        0  \n",
       "2            NaN      female        0  \n",
       "3            NaN         NaN        0  \n",
       "4            NaN         NaN        0  "
      ]
     },
     "execution_count": 132,
     "metadata": {},
     "output_type": "execute_result"
    }
   ],
   "source": [
    "final_df.rename(columns={'rating': 'bechdel_rating'}, inplace=True)\n",
    "final_df.head()"
   ]
  },
  {
   "cell_type": "markdown",
   "id": "9639a3bc",
   "metadata": {},
   "source": [
    "Save our cleaned and final df into a csv file. "
   ]
  },
  {
   "cell_type": "code",
   "execution_count": 133,
   "id": "692dad0f",
   "metadata": {},
   "outputs": [],
   "source": [
    "#final_df.to_csv('data/clean_df.csv' , index = False , encoding = 'utf-8' )"
   ]
  },
  {
   "attachments": {},
   "cell_type": "markdown",
   "id": "deeb2546",
   "metadata": {},
   "source": [
    "### Feature Engineering\n",
    "Before moving onto our visualizations, first let's read back the data and make sure the columns have the approriate datatypes. Then we should investigate NaN values and data types to determine next steps."
   ]
  },
  {
   "cell_type": "code",
   "execution_count": 408,
   "id": "47299770",
   "metadata": {},
   "outputs": [],
   "source": [
    "clean_df = pd.read_csv('data/clean_df.csv' , dtype = str , encoding = 'utf-8' ) "
   ]
  },
  {
   "cell_type": "code",
   "execution_count": 409,
   "id": "a107588f",
   "metadata": {},
   "outputs": [],
   "source": [
    "numeric_vars = [ 'year' , 'Runtime' , 'imdbVotes' , 'BoxOffice' ]\n",
    "date_vars = [ 'Released' ]\n",
    "binary_vars = [ 'CoProduction' , 'IsItGay' ]\n",
    "categorical_vars = [ 'rating' , 'DirectorGender' , 'ActorGender']\n",
    "\n",
    "for i in numeric_vars:\n",
    "    clean_df[i] = pd.to_numeric(clean_df[i])\n",
    "\n",
    "clean_df['Released'] = pd.to_datetime(clean_df['Released'])"
   ]
  },
  {
   "cell_type": "code",
   "execution_count": 410,
   "id": "75051a75",
   "metadata": {},
   "outputs": [
    {
     "data": {
      "text/plain": [
       "title                     object\n",
       "imdbid                    object\n",
       "year                       int64\n",
       "bechdel_rating            object\n",
       "Released          datetime64[ns]\n",
       "Runtime                  float64\n",
       "Country                   object\n",
       "imdbRating                object\n",
       "imdbVotes                float64\n",
       "BoxOffice                float64\n",
       "CoProduction              object\n",
       "DirectorGender            object\n",
       "ActorGender               object\n",
       "IsItGay                   object\n",
       "dtype: object"
      ]
     },
     "execution_count": 410,
     "metadata": {},
     "output_type": "execute_result"
    }
   ],
   "source": [
    "clean_df.dtypes"
   ]
  },
  {
   "cell_type": "code",
   "execution_count": 411,
   "id": "307d4851",
   "metadata": {},
   "outputs": [
    {
     "data": {
      "text/plain": [
       "title                0\n",
       "imdbid               0\n",
       "year                 0\n",
       "bechdel_rating       0\n",
       "Released           125\n",
       "Runtime             47\n",
       "Country             10\n",
       "imdbRating          44\n",
       "imdbVotes           31\n",
       "BoxOffice         3712\n",
       "CoProduction        10\n",
       "DirectorGender     796\n",
       "ActorGender        945\n",
       "IsItGay              0\n",
       "dtype: int64"
      ]
     },
     "execution_count": 411,
     "metadata": {},
     "output_type": "execute_result"
    }
   ],
   "source": [
    "clean_df.isnull().sum(axis = 0)"
   ]
  },
  {
   "cell_type": "markdown",
   "id": "25b05f54",
   "metadata": {},
   "source": [
    "We've confirmed our primary variables (bechdel_rating and IsItGay) have no null values which is great. There are some null values in the other variables though so we did the following:\n",
    "\n",
    "1. **Replace with Sample Mean:** For any float/int variables, we used the sample mean and created a binary flag variable as an indicator (1 meaning average used and 0 meaning otherwise). This impacted the following: runtime, imdbVotes, and BoxOffice. For box office, we decided to not replace simply with the sample mean but instead with the decade specific sample mean to avoid placing modern box office values on historical films.\n",
    "2. **Drop Values:** For any categorical or dateTime variables with <.5% of total rows, we decided to drop these values. This impacted the following: Released, Country, imdbRating, and CoProduction.\n",
    "3. **Fill with Value:** For any binary values, we decided to fill with an Unknown value ('Unknown') to avoid lost observations. This impacted the following: DirectorGender and ActorGender."
   ]
  },
  {
   "cell_type": "code",
   "execution_count": 413,
   "id": "b8ba49ad",
   "metadata": {},
   "outputs": [
    {
     "name": "stdout",
     "output_type": "stream",
     "text": [
      "Runtime\n",
      "imdbVotes\n",
      "BoxOffice\n"
     ]
    }
   ],
   "source": [
    "#Creating flag variable and replacing with Sample Mean\n",
    "#sample_mean_cols = ['Runtime', 'imdbVotes', 'BoxOffice']\n",
    "for cols in clean_df[['Runtime', 'imdbVotes', 'BoxOffice']]:\n",
    "    clean_df[cols + '_NaN' ] = clean_df[cols].isnull()*1\n",
    "    mean_value = clean_df[cols].mean(skipna = True)\n",
    "    clean_df[cols].fillna(value=mean_value, inplace=True)\n",
    "    print(cols)"
   ]
  },
  {
   "cell_type": "code",
   "execution_count": 414,
   "id": "15e52918",
   "metadata": {},
   "outputs": [
    {
     "data": {
      "text/plain": [
       "title               0\n",
       "imdbid              0\n",
       "year                0\n",
       "bechdel_rating      0\n",
       "Released          125\n",
       "Runtime             0\n",
       "Country            10\n",
       "imdbRating         44\n",
       "imdbVotes           0\n",
       "BoxOffice           0\n",
       "CoProduction       10\n",
       "DirectorGender    796\n",
       "ActorGender       945\n",
       "IsItGay             0\n",
       "Runtime_NaN         0\n",
       "imdbVotes_NaN       0\n",
       "BoxOffice_NaN       0\n",
       "dtype: int64"
      ]
     },
     "execution_count": 414,
     "metadata": {},
     "output_type": "execute_result"
    }
   ],
   "source": [
    "#Checking to make sure it got rid of the NaNs\n",
    "clean_df.isnull().sum(axis = 0)"
   ]
  },
  {
   "cell_type": "code",
   "execution_count": 415,
   "id": "ff805863",
   "metadata": {},
   "outputs": [
    {
     "name": "stdout",
     "output_type": "stream",
     "text": [
      "Released\n",
      "Country\n",
      "imdbRating\n",
      "CoProduction\n"
     ]
    }
   ],
   "source": [
    "#Moving onto Dropping Values\n",
    "for cols in clean_df[['Released', 'Country', 'imdbRating', 'CoProduction']]:\n",
    "    clean_df = clean_df[pd.notnull(clean_df[cols])]\n",
    "    print(cols)"
   ]
  },
  {
   "cell_type": "code",
   "execution_count": 416,
   "id": "2907b4f5",
   "metadata": {},
   "outputs": [
    {
     "data": {
      "text/plain": [
       "title               0\n",
       "imdbid              0\n",
       "year                0\n",
       "bechdel_rating      0\n",
       "Released            0\n",
       "Runtime             0\n",
       "Country             0\n",
       "imdbRating          0\n",
       "imdbVotes           0\n",
       "BoxOffice           0\n",
       "CoProduction        0\n",
       "DirectorGender    767\n",
       "ActorGender       910\n",
       "IsItGay             0\n",
       "Runtime_NaN         0\n",
       "imdbVotes_NaN       0\n",
       "BoxOffice_NaN       0\n",
       "dtype: int64"
      ]
     },
     "execution_count": 416,
     "metadata": {},
     "output_type": "execute_result"
    }
   ],
   "source": [
    "#Again checking to make sure it got rid of the NaNs\n",
    "clean_df.isnull().sum(axis = 0)"
   ]
  },
  {
   "cell_type": "code",
   "execution_count": 417,
   "id": "009c6bfe",
   "metadata": {},
   "outputs": [
    {
     "name": "stdout",
     "output_type": "stream",
     "text": [
      "DirectorGender\n",
      "ActorGender\n"
     ]
    }
   ],
   "source": [
    "#Now finally filling with value\n",
    "for cols in clean_df[['DirectorGender', 'ActorGender']]: \n",
    "    clean_df[cols] = clean_df[cols].fillna('Unknown')\n",
    "    print(cols)"
   ]
  },
  {
   "cell_type": "code",
   "execution_count": 418,
   "id": "d94f2e5f",
   "metadata": {},
   "outputs": [
    {
     "data": {
      "text/plain": [
       "title             0\n",
       "imdbid            0\n",
       "year              0\n",
       "bechdel_rating    0\n",
       "Released          0\n",
       "Runtime           0\n",
       "Country           0\n",
       "imdbRating        0\n",
       "imdbVotes         0\n",
       "BoxOffice         0\n",
       "CoProduction      0\n",
       "DirectorGender    0\n",
       "ActorGender       0\n",
       "IsItGay           0\n",
       "Runtime_NaN       0\n",
       "imdbVotes_NaN     0\n",
       "BoxOffice_NaN     0\n",
       "dtype: int64"
      ]
     },
     "execution_count": 418,
     "metadata": {},
     "output_type": "execute_result"
    }
   ],
   "source": [
    "#Finally checking to make sure we got rid of all our NaNs\n",
    "clean_df.isnull().sum(axis = 0)"
   ]
  },
  {
   "cell_type": "code",
   "execution_count": 504,
   "id": "e83e00b6",
   "metadata": {},
   "outputs": [
    {
     "data": {
      "text/html": [
       "<div>\n",
       "<style scoped>\n",
       "    .dataframe tbody tr th:only-of-type {\n",
       "        vertical-align: middle;\n",
       "    }\n",
       "\n",
       "    .dataframe tbody tr th {\n",
       "        vertical-align: top;\n",
       "    }\n",
       "\n",
       "    .dataframe thead th {\n",
       "        text-align: right;\n",
       "    }\n",
       "</style>\n",
       "<table border=\"1\" class=\"dataframe\">\n",
       "  <thead>\n",
       "    <tr style=\"text-align: right;\">\n",
       "      <th></th>\n",
       "      <th>title</th>\n",
       "      <th>imdbid</th>\n",
       "      <th>year</th>\n",
       "      <th>bechdel_rating</th>\n",
       "      <th>Released</th>\n",
       "      <th>Runtime</th>\n",
       "      <th>Country</th>\n",
       "      <th>imdbRating</th>\n",
       "      <th>imdbVotes</th>\n",
       "      <th>BoxOffice</th>\n",
       "      <th>CoProduction</th>\n",
       "      <th>DirectorGender</th>\n",
       "      <th>ActorGender</th>\n",
       "      <th>IsItGay</th>\n",
       "      <th>Runtime_NaN</th>\n",
       "      <th>imdbVotes_NaN</th>\n",
       "      <th>BoxOffice_NaN</th>\n",
       "      <th>bechdel_binary</th>\n",
       "    </tr>\n",
       "  </thead>\n",
       "  <tbody>\n",
       "    <tr>\n",
       "      <th>0</th>\n",
       "      <td>Passage de Venus</td>\n",
       "      <td>3155794</td>\n",
       "      <td>1874</td>\n",
       "      <td>0</td>\n",
       "      <td>1874-12-09</td>\n",
       "      <td>1.0</td>\n",
       "      <td>France</td>\n",
       "      <td>6.9</td>\n",
       "      <td>1586.0</td>\n",
       "      <td>4.288291e+07</td>\n",
       "      <td>0</td>\n",
       "      <td>Unknown</td>\n",
       "      <td>Unknown</td>\n",
       "      <td>0</td>\n",
       "      <td>0</td>\n",
       "      <td>0</td>\n",
       "      <td>1</td>\n",
       "      <td>0</td>\n",
       "    </tr>\n",
       "    <tr>\n",
       "      <th>2</th>\n",
       "      <td>Sallie Gardner at a Gallop</td>\n",
       "      <td>2221420</td>\n",
       "      <td>1878</td>\n",
       "      <td>0</td>\n",
       "      <td>1878-06-15</td>\n",
       "      <td>1.0</td>\n",
       "      <td>United States</td>\n",
       "      <td>7.4</td>\n",
       "      <td>2849.0</td>\n",
       "      <td>4.288291e+07</td>\n",
       "      <td>0</td>\n",
       "      <td>Unknown</td>\n",
       "      <td>female</td>\n",
       "      <td>0</td>\n",
       "      <td>0</td>\n",
       "      <td>0</td>\n",
       "      <td>1</td>\n",
       "      <td>0</td>\n",
       "    </tr>\n",
       "    <tr>\n",
       "      <th>3</th>\n",
       "      <td>Le singe musicien</td>\n",
       "      <td>12592084</td>\n",
       "      <td>1878</td>\n",
       "      <td>0</td>\n",
       "      <td>1878-05-07</td>\n",
       "      <td>1.0</td>\n",
       "      <td>France</td>\n",
       "      <td>6.0</td>\n",
       "      <td>181.0</td>\n",
       "      <td>4.288291e+07</td>\n",
       "      <td>0</td>\n",
       "      <td>Unknown</td>\n",
       "      <td>Unknown</td>\n",
       "      <td>0</td>\n",
       "      <td>0</td>\n",
       "      <td>0</td>\n",
       "      <td>1</td>\n",
       "      <td>0</td>\n",
       "    </tr>\n",
       "    <tr>\n",
       "      <th>4</th>\n",
       "      <td>Athlete Swinging a Pick</td>\n",
       "      <td>7816420</td>\n",
       "      <td>1881</td>\n",
       "      <td>0</td>\n",
       "      <td>1881-01-01</td>\n",
       "      <td>1.0</td>\n",
       "      <td>United Kingdom</td>\n",
       "      <td>5.2</td>\n",
       "      <td>397.0</td>\n",
       "      <td>4.288291e+07</td>\n",
       "      <td>0</td>\n",
       "      <td>Unknown</td>\n",
       "      <td>Unknown</td>\n",
       "      <td>0</td>\n",
       "      <td>0</td>\n",
       "      <td>0</td>\n",
       "      <td>1</td>\n",
       "      <td>0</td>\n",
       "    </tr>\n",
       "    <tr>\n",
       "      <th>5</th>\n",
       "      <td>Buffalo Running</td>\n",
       "      <td>5459794</td>\n",
       "      <td>1883</td>\n",
       "      <td>0</td>\n",
       "      <td>1883-11-19</td>\n",
       "      <td>1.0</td>\n",
       "      <td>United States</td>\n",
       "      <td>6.3</td>\n",
       "      <td>939.0</td>\n",
       "      <td>4.288291e+07</td>\n",
       "      <td>0</td>\n",
       "      <td>Unknown</td>\n",
       "      <td>Unknown</td>\n",
       "      <td>0</td>\n",
       "      <td>0</td>\n",
       "      <td>0</td>\n",
       "      <td>1</td>\n",
       "      <td>0</td>\n",
       "    </tr>\n",
       "    <tr>\n",
       "      <th>13</th>\n",
       "      <td>Roundhay Garden Scene</td>\n",
       "      <td>0392728</td>\n",
       "      <td>1888</td>\n",
       "      <td>0</td>\n",
       "      <td>1888-10-14</td>\n",
       "      <td>1.0</td>\n",
       "      <td>United Kingdom</td>\n",
       "      <td>7.3</td>\n",
       "      <td>5998.0</td>\n",
       "      <td>4.288291e+07</td>\n",
       "      <td>1</td>\n",
       "      <td>male</td>\n",
       "      <td>female</td>\n",
       "      <td>0</td>\n",
       "      <td>0</td>\n",
       "      <td>0</td>\n",
       "      <td>1</td>\n",
       "      <td>0</td>\n",
       "    </tr>\n",
       "    <tr>\n",
       "      <th>15</th>\n",
       "      <td>Traffic Crossing Leeds Bridge</td>\n",
       "      <td>0343112</td>\n",
       "      <td>1888</td>\n",
       "      <td>0</td>\n",
       "      <td>1888-10-01</td>\n",
       "      <td>2.0</td>\n",
       "      <td>United Kingdom</td>\n",
       "      <td>6.7</td>\n",
       "      <td>3015.0</td>\n",
       "      <td>4.288291e+07</td>\n",
       "      <td>0</td>\n",
       "      <td>male</td>\n",
       "      <td>Unknown</td>\n",
       "      <td>0</td>\n",
       "      <td>0</td>\n",
       "      <td>0</td>\n",
       "      <td>1</td>\n",
       "      <td>0</td>\n",
       "    </tr>\n",
       "    <tr>\n",
       "      <th>16</th>\n",
       "      <td>Pferd und Reiter Springen uber ein Hindernis</td>\n",
       "      <td>3274100</td>\n",
       "      <td>1888</td>\n",
       "      <td>0</td>\n",
       "      <td>1888-05-31</td>\n",
       "      <td>1.0</td>\n",
       "      <td>Germany</td>\n",
       "      <td>5.7</td>\n",
       "      <td>336.0</td>\n",
       "      <td>4.288291e+07</td>\n",
       "      <td>0</td>\n",
       "      <td>male</td>\n",
       "      <td>Unknown</td>\n",
       "      <td>0</td>\n",
       "      <td>0</td>\n",
       "      <td>0</td>\n",
       "      <td>1</td>\n",
       "      <td>0</td>\n",
       "    </tr>\n",
       "    <tr>\n",
       "      <th>20</th>\n",
       "      <td>Monkeyshines, No. 1</td>\n",
       "      <td>0361921</td>\n",
       "      <td>1890</td>\n",
       "      <td>0</td>\n",
       "      <td>1890-11-21</td>\n",
       "      <td>1.0</td>\n",
       "      <td>United States</td>\n",
       "      <td>5.0</td>\n",
       "      <td>1444.0</td>\n",
       "      <td>4.288291e+07</td>\n",
       "      <td>0</td>\n",
       "      <td>male</td>\n",
       "      <td>male</td>\n",
       "      <td>0</td>\n",
       "      <td>0</td>\n",
       "      <td>0</td>\n",
       "      <td>1</td>\n",
       "      <td>0</td>\n",
       "    </tr>\n",
       "    <tr>\n",
       "      <th>21</th>\n",
       "      <td>Monkeyshines, No. 2</td>\n",
       "      <td>0416046</td>\n",
       "      <td>1890</td>\n",
       "      <td>0</td>\n",
       "      <td>1890-11-27</td>\n",
       "      <td>1.0</td>\n",
       "      <td>United States</td>\n",
       "      <td>4.8</td>\n",
       "      <td>1043.0</td>\n",
       "      <td>4.288291e+07</td>\n",
       "      <td>0</td>\n",
       "      <td>male</td>\n",
       "      <td>male</td>\n",
       "      <td>0</td>\n",
       "      <td>0</td>\n",
       "      <td>0</td>\n",
       "      <td>1</td>\n",
       "      <td>0</td>\n",
       "    </tr>\n",
       "  </tbody>\n",
       "</table>\n",
       "</div>"
      ],
      "text/plain": [
       "                                           title    imdbid  year  \\\n",
       "0                               Passage de Venus   3155794  1874   \n",
       "2                     Sallie Gardner at a Gallop   2221420  1878   \n",
       "3                              Le singe musicien  12592084  1878   \n",
       "4                        Athlete Swinging a Pick   7816420  1881   \n",
       "5                                Buffalo Running   5459794  1883   \n",
       "13                         Roundhay Garden Scene   0392728  1888   \n",
       "15                 Traffic Crossing Leeds Bridge   0343112  1888   \n",
       "16  Pferd und Reiter Springen uber ein Hindernis   3274100  1888   \n",
       "20                           Monkeyshines, No. 1   0361921  1890   \n",
       "21                           Monkeyshines, No. 2   0416046  1890   \n",
       "\n",
       "   bechdel_rating   Released  Runtime         Country imdbRating  imdbVotes  \\\n",
       "0               0 1874-12-09      1.0          France        6.9     1586.0   \n",
       "2               0 1878-06-15      1.0   United States        7.4     2849.0   \n",
       "3               0 1878-05-07      1.0          France        6.0      181.0   \n",
       "4               0 1881-01-01      1.0  United Kingdom        5.2      397.0   \n",
       "5               0 1883-11-19      1.0   United States        6.3      939.0   \n",
       "13              0 1888-10-14      1.0  United Kingdom        7.3     5998.0   \n",
       "15              0 1888-10-01      2.0  United Kingdom        6.7     3015.0   \n",
       "16              0 1888-05-31      1.0         Germany        5.7      336.0   \n",
       "20              0 1890-11-21      1.0   United States        5.0     1444.0   \n",
       "21              0 1890-11-27      1.0   United States        4.8     1043.0   \n",
       "\n",
       "       BoxOffice CoProduction DirectorGender ActorGender IsItGay  Runtime_NaN  \\\n",
       "0   4.288291e+07            0        Unknown     Unknown       0            0   \n",
       "2   4.288291e+07            0        Unknown      female       0            0   \n",
       "3   4.288291e+07            0        Unknown     Unknown       0            0   \n",
       "4   4.288291e+07            0        Unknown     Unknown       0            0   \n",
       "5   4.288291e+07            0        Unknown     Unknown       0            0   \n",
       "13  4.288291e+07            1           male      female       0            0   \n",
       "15  4.288291e+07            0           male     Unknown       0            0   \n",
       "16  4.288291e+07            0           male     Unknown       0            0   \n",
       "20  4.288291e+07            0           male        male       0            0   \n",
       "21  4.288291e+07            0           male        male       0            0   \n",
       "\n",
       "    imdbVotes_NaN  BoxOffice_NaN  bechdel_binary  \n",
       "0               0              1               0  \n",
       "2               0              1               0  \n",
       "3               0              1               0  \n",
       "4               0              1               0  \n",
       "5               0              1               0  \n",
       "13              0              1               0  \n",
       "15              0              1               0  \n",
       "16              0              1               0  \n",
       "20              0              1               0  \n",
       "21              0              1               0  "
      ]
     },
     "execution_count": 504,
     "metadata": {},
     "output_type": "execute_result"
    }
   ],
   "source": [
    "#As some final data tweaks for visualization later, we added a binary column if the film passes the Bechdel test.\n",
    "clean_df['bechdel_binary'] = np.where(clean_df['bechdel_rating'] == '3', 1, 0)\n",
    "clean_df.head(10)"
   ]
  },
  {
   "cell_type": "code",
   "execution_count": 506,
   "id": "c208c19d",
   "metadata": {},
   "outputs": [],
   "source": [
    "#Let's save this df as the final version and load it back\n",
    "#clean_df.to_csv('data/final_df.csv', index = False, encoding = 'utf-8')\n",
    "final_df = pd.read_csv('https://raw.githubusercontent.com/nadineisabel/ceu_coding3-final_project/main/data/final_df.csv', dtype = str , encoding = 'utf-8' ) \n"
   ]
  },
  {
   "cell_type": "code",
   "execution_count": 518,
   "id": "c97935a4",
   "metadata": {},
   "outputs": [
    {
     "data": {
      "text/plain": [
       "title                     object\n",
       "imdbid                    object\n",
       "year                       int64\n",
       "bechdel_rating            object\n",
       "Released          datetime64[ns]\n",
       "Runtime                  float64\n",
       "Country                   object\n",
       "imdbRating                object\n",
       "imdbVotes                float64\n",
       "BoxOffice                float64\n",
       "CoProduction               int64\n",
       "DirectorGender            object\n",
       "ActorGender               object\n",
       "IsItGay                    int64\n",
       "Runtime_NaN                int64\n",
       "imdbVotes_NaN              int64\n",
       "BoxOffice_NaN              int64\n",
       "bechdel_binary             int64\n",
       "log_BoxOffice            float64\n",
       "dtype: object"
      ]
     },
     "execution_count": 518,
     "metadata": {},
     "output_type": "execute_result"
    }
   ],
   "source": [
    "#Ensuring we don't lose the unique datatype values\n",
    "numeric_vars = [ 'year' , 'Runtime' , 'imdbVotes' , 'BoxOffice' ]\n",
    "date_vars = [ 'Released' ]\n",
    "binary_vars = [ 'CoProduction' , 'IsItGay' , 'Runtime_NaN', 'imdbVotes_NaN', 'BoxOffice_NaN', 'bechdel_binary']\n",
    "categorical_vars = [ 'rating' , 'DirectorGender' , 'ActorGender']\n",
    "\n",
    "for i in numeric_vars:\n",
    "    final_df[i] = pd.to_numeric(final_df[i])\n",
    "for i in binary_vars:\n",
    "    final_df[i] = pd.to_numeric(final_df[i])\n",
    "\n",
    "final_df['Released'] = pd.to_datetime(final_df['Released'])\n",
    "\n",
    "#Checking final data types\n",
    "final_df.dtypes"
   ]
  },
  {
   "cell_type": "markdown",
   "id": "d07c9de8",
   "metadata": {},
   "source": [
    "### Visualizations to Answer Questions\n",
    "Now we are finally ready to visualize the answers to our three main questions!"
   ]
  },
  {
   "cell_type": "markdown",
   "id": "cfe797b7",
   "metadata": {},
   "source": [
    "#### 1. Are box office earnings related to Bechdel test scores?\n",
    "First, let's explore the box office earnings data. "
   ]
  },
  {
   "cell_type": "code",
   "execution_count": 451,
   "id": "135f39d5",
   "metadata": {},
   "outputs": [
    {
     "data": {
      "text/plain": [
       "<AxesSubplot:xlabel='bechdel_rating', ylabel='BoxOffice'>"
      ]
     },
     "execution_count": 451,
     "metadata": {},
     "output_type": "execute_result"
    },
    {
     "data": {
      "image/png": "[encoded data removed]",
      "text/plain": [
       "<Figure size 432x288 with 1 Axes>"
      ]
     },
     "metadata": {
      "needs_background": "light"
     },
     "output_type": "display_data"
    }
   ],
   "source": [
    "sns.violinplot(x = 'bechdel_rating', y = 'BoxOffice', data = final_df)\n",
    "#Looks like there are some outliers, let's investigate"
   ]
  },
  {
   "cell_type": "code",
   "execution_count": 452,
   "id": "181d766f",
   "metadata": {},
   "outputs": [
    {
     "data": {
      "image/png": "[encoded data removed]",
      "text/plain": [
       "<Figure size 432x288 with 1 Axes>"
      ]
     },
     "metadata": {
      "needs_background": "light"
     },
     "output_type": "display_data"
    }
   ],
   "source": [
    "plt.hist(final_df['BoxOffice'], bins=100)\n",
    "plt.show() \n",
    "#We can better see the impact of using the sample mean but it looks like there are still some extreme values."
   ]
  },
  {
   "cell_type": "code",
   "execution_count": 553,
   "id": "c5eeca1c",
   "metadata": {},
   "outputs": [
    {
     "data": {
      "text/html": [
       "<div>\n",
       "<style scoped>\n",
       "    .dataframe tbody tr th:only-of-type {\n",
       "        vertical-align: middle;\n",
       "    }\n",
       "\n",
       "    .dataframe tbody tr th {\n",
       "        vertical-align: top;\n",
       "    }\n",
       "\n",
       "    .dataframe thead th {\n",
       "        text-align: right;\n",
       "    }\n",
       "</style>\n",
       "<table border=\"1\" class=\"dataframe\">\n",
       "  <thead>\n",
       "    <tr style=\"text-align: right;\">\n",
       "      <th></th>\n",
       "      <th>title</th>\n",
       "      <th>imdbid</th>\n",
       "      <th>year</th>\n",
       "      <th>bechdel_rating</th>\n",
       "      <th>Released</th>\n",
       "      <th>Runtime</th>\n",
       "      <th>Country</th>\n",
       "      <th>imdbRating</th>\n",
       "      <th>imdbVotes</th>\n",
       "      <th>BoxOffice</th>\n",
       "      <th>CoProduction</th>\n",
       "      <th>DirectorGender</th>\n",
       "      <th>ActorGender</th>\n",
       "      <th>IsItGay</th>\n",
       "      <th>Runtime_NaN</th>\n",
       "      <th>imdbVotes_NaN</th>\n",
       "      <th>BoxOffice_NaN</th>\n",
       "      <th>bechdel_binary</th>\n",
       "      <th>log_BoxOffice</th>\n",
       "    </tr>\n",
       "  </thead>\n",
       "  <tbody>\n",
       "    <tr>\n",
       "      <th>7757</th>\n",
       "      <td>Star Wars: The Force Awakens</td>\n",
       "      <td>2488496</td>\n",
       "      <td>2015</td>\n",
       "      <td>3</td>\n",
       "      <td>2015-12-18</td>\n",
       "      <td>138.0</td>\n",
       "      <td>United States</td>\n",
       "      <td>7.9</td>\n",
       "      <td>904569.0</td>\n",
       "      <td>936662225.0</td>\n",
       "      <td>0</td>\n",
       "      <td>Unknown</td>\n",
       "      <td>female</td>\n",
       "      <td>0</td>\n",
       "      <td>0</td>\n",
       "      <td>0</td>\n",
       "      <td>0</td>\n",
       "      <td>1</td>\n",
       "      <td>20.657833</td>\n",
       "    </tr>\n",
       "    <tr>\n",
       "      <th>8793</th>\n",
       "      <td>Avengers: Endgame</td>\n",
       "      <td>4154796</td>\n",
       "      <td>2019</td>\n",
       "      <td>3</td>\n",
       "      <td>2019-04-26</td>\n",
       "      <td>181.0</td>\n",
       "      <td>United States</td>\n",
       "      <td>8.4</td>\n",
       "      <td>1030512.0</td>\n",
       "      <td>858373000.0</td>\n",
       "      <td>0</td>\n",
       "      <td>male</td>\n",
       "      <td>male</td>\n",
       "      <td>0</td>\n",
       "      <td>0</td>\n",
       "      <td>0</td>\n",
       "      <td>0</td>\n",
       "      <td>1</td>\n",
       "      <td>20.570549</td>\n",
       "    </tr>\n",
       "    <tr>\n",
       "      <th>9211</th>\n",
       "      <td>Spider-Man: No Way Home</td>\n",
       "      <td>10872600</td>\n",
       "      <td>2021</td>\n",
       "      <td>3</td>\n",
       "      <td>2021-12-17</td>\n",
       "      <td>148.0</td>\n",
       "      <td>United States</td>\n",
       "      <td>8.5</td>\n",
       "      <td>555922.0</td>\n",
       "      <td>800588139.0</td>\n",
       "      <td>0</td>\n",
       "      <td>male</td>\n",
       "      <td>Unknown</td>\n",
       "      <td>0</td>\n",
       "      <td>0</td>\n",
       "      <td>0</td>\n",
       "      <td>0</td>\n",
       "      <td>1</td>\n",
       "      <td>20.500857</td>\n",
       "    </tr>\n",
       "    <tr>\n",
       "      <th>5445</th>\n",
       "      <td>Avatar</td>\n",
       "      <td>0499549</td>\n",
       "      <td>2009</td>\n",
       "      <td>3</td>\n",
       "      <td>2009-12-18</td>\n",
       "      <td>162.0</td>\n",
       "      <td>United States</td>\n",
       "      <td>7.9</td>\n",
       "      <td>1185150.0</td>\n",
       "      <td>760507625.0</td>\n",
       "      <td>0</td>\n",
       "      <td>male</td>\n",
       "      <td>female</td>\n",
       "      <td>0</td>\n",
       "      <td>0</td>\n",
       "      <td>0</td>\n",
       "      <td>0</td>\n",
       "      <td>1</td>\n",
       "      <td>20.449497</td>\n",
       "    </tr>\n",
       "    <tr>\n",
       "      <th>8529</th>\n",
       "      <td>Black Panther</td>\n",
       "      <td>1825683</td>\n",
       "      <td>2018</td>\n",
       "      <td>3</td>\n",
       "      <td>2018-02-16</td>\n",
       "      <td>134.0</td>\n",
       "      <td>United States</td>\n",
       "      <td>7.3</td>\n",
       "      <td>713245.0</td>\n",
       "      <td>700426566.0</td>\n",
       "      <td>0</td>\n",
       "      <td>male</td>\n",
       "      <td>female</td>\n",
       "      <td>0</td>\n",
       "      <td>0</td>\n",
       "      <td>0</td>\n",
       "      <td>0</td>\n",
       "      <td>1</td>\n",
       "      <td>20.367200</td>\n",
       "    </tr>\n",
       "    <tr>\n",
       "      <th>...</th>\n",
       "      <td>...</td>\n",
       "      <td>...</td>\n",
       "      <td>...</td>\n",
       "      <td>...</td>\n",
       "      <td>...</td>\n",
       "      <td>...</td>\n",
       "      <td>...</td>\n",
       "      <td>...</td>\n",
       "      <td>...</td>\n",
       "      <td>...</td>\n",
       "      <td>...</td>\n",
       "      <td>...</td>\n",
       "      <td>...</td>\n",
       "      <td>...</td>\n",
       "      <td>...</td>\n",
       "      <td>...</td>\n",
       "      <td>...</td>\n",
       "      <td>...</td>\n",
       "      <td>...</td>\n",
       "    </tr>\n",
       "    <tr>\n",
       "      <th>1144</th>\n",
       "      <td>Fahrenheit 451</td>\n",
       "      <td>0060390</td>\n",
       "      <td>1966</td>\n",
       "      <td>3</td>\n",
       "      <td>1966-11-14</td>\n",
       "      <td>112.0</td>\n",
       "      <td>United Kingdom</td>\n",
       "      <td>7.2</td>\n",
       "      <td>42989.0</td>\n",
       "      <td>509.0</td>\n",
       "      <td>0</td>\n",
       "      <td>male</td>\n",
       "      <td>female</td>\n",
       "      <td>0</td>\n",
       "      <td>0</td>\n",
       "      <td>0</td>\n",
       "      <td>0</td>\n",
       "      <td>1</td>\n",
       "      <td>6.232448</td>\n",
       "    </tr>\n",
       "    <tr>\n",
       "      <th>1009</th>\n",
       "      <td>Antoine and Colette</td>\n",
       "      <td>1180329</td>\n",
       "      <td>1962</td>\n",
       "      <td>0</td>\n",
       "      <td>1962-06-22</td>\n",
       "      <td>32.0</td>\n",
       "      <td>France</td>\n",
       "      <td>7.6</td>\n",
       "      <td>5165.0</td>\n",
       "      <td>509.0</td>\n",
       "      <td>0</td>\n",
       "      <td>male</td>\n",
       "      <td>Unknown</td>\n",
       "      <td>0</td>\n",
       "      <td>0</td>\n",
       "      <td>0</td>\n",
       "      <td>0</td>\n",
       "      <td>0</td>\n",
       "      <td>6.232448</td>\n",
       "    </tr>\n",
       "    <tr>\n",
       "      <th>976</th>\n",
       "      <td>Jules and Jim</td>\n",
       "      <td>0055032</td>\n",
       "      <td>1962</td>\n",
       "      <td>1</td>\n",
       "      <td>1962-01-23</td>\n",
       "      <td>105.0</td>\n",
       "      <td>France</td>\n",
       "      <td>7.7</td>\n",
       "      <td>40596.0</td>\n",
       "      <td>509.0</td>\n",
       "      <td>0</td>\n",
       "      <td>male</td>\n",
       "      <td>female</td>\n",
       "      <td>0</td>\n",
       "      <td>0</td>\n",
       "      <td>0</td>\n",
       "      <td>0</td>\n",
       "      <td>0</td>\n",
       "      <td>6.232448</td>\n",
       "    </tr>\n",
       "    <tr>\n",
       "      <th>878</th>\n",
       "      <td>400 Blows, The</td>\n",
       "      <td>0053198</td>\n",
       "      <td>1959</td>\n",
       "      <td>0</td>\n",
       "      <td>1959-11-16</td>\n",
       "      <td>99.0</td>\n",
       "      <td>France</td>\n",
       "      <td>8.1</td>\n",
       "      <td>114819.0</td>\n",
       "      <td>509.0</td>\n",
       "      <td>0</td>\n",
       "      <td>male</td>\n",
       "      <td>female</td>\n",
       "      <td>0</td>\n",
       "      <td>0</td>\n",
       "      <td>0</td>\n",
       "      <td>0</td>\n",
       "      <td>0</td>\n",
       "      <td>6.232448</td>\n",
       "    </tr>\n",
       "    <tr>\n",
       "      <th>6384</th>\n",
       "      <td>Apartment 143</td>\n",
       "      <td>1757742</td>\n",
       "      <td>2011</td>\n",
       "      <td>3</td>\n",
       "      <td>2012-05-04</td>\n",
       "      <td>80.0</td>\n",
       "      <td>Spain</td>\n",
       "      <td>5.0</td>\n",
       "      <td>11351.0</td>\n",
       "      <td>383.0</td>\n",
       "      <td>0</td>\n",
       "      <td>male</td>\n",
       "      <td>male</td>\n",
       "      <td>0</td>\n",
       "      <td>0</td>\n",
       "      <td>0</td>\n",
       "      <td>0</td>\n",
       "      <td>1</td>\n",
       "      <td>5.948035</td>\n",
       "    </tr>\n",
       "  </tbody>\n",
       "</table>\n",
       "<p>9248 rows × 19 columns</p>\n",
       "</div>"
      ],
      "text/plain": [
       "                             title    imdbid  year bechdel_rating   Released  \\\n",
       "7757  Star Wars: The Force Awakens   2488496  2015              3 2015-12-18   \n",
       "8793             Avengers: Endgame   4154796  2019              3 2019-04-26   \n",
       "9211       Spider-Man: No Way Home  10872600  2021              3 2021-12-17   \n",
       "5445                        Avatar   0499549  2009              3 2009-12-18   \n",
       "8529                 Black Panther   1825683  2018              3 2018-02-16   \n",
       "...                            ...       ...   ...            ...        ...   \n",
       "1144                Fahrenheit 451   0060390  1966              3 1966-11-14   \n",
       "1009           Antoine and Colette   1180329  1962              0 1962-06-22   \n",
       "976                  Jules and Jim   0055032  1962              1 1962-01-23   \n",
       "878                 400 Blows, The   0053198  1959              0 1959-11-16   \n",
       "6384                 Apartment 143   1757742  2011              3 2012-05-04   \n",
       "\n",
       "      Runtime         Country imdbRating  imdbVotes    BoxOffice  \\\n",
       "7757    138.0   United States        7.9   904569.0  936662225.0   \n",
       "8793    181.0   United States        8.4  1030512.0  858373000.0   \n",
       "9211    148.0   United States        8.5   555922.0  800588139.0   \n",
       "5445    162.0   United States        7.9  1185150.0  760507625.0   \n",
       "8529    134.0   United States        7.3   713245.0  700426566.0   \n",
       "...       ...             ...        ...        ...          ...   \n",
       "1144    112.0  United Kingdom        7.2    42989.0        509.0   \n",
       "1009     32.0          France        7.6     5165.0        509.0   \n",
       "976     105.0          France        7.7    40596.0        509.0   \n",
       "878      99.0          France        8.1   114819.0        509.0   \n",
       "6384     80.0           Spain        5.0    11351.0        383.0   \n",
       "\n",
       "      CoProduction DirectorGender ActorGender  IsItGay  Runtime_NaN  \\\n",
       "7757             0        Unknown      female        0            0   \n",
       "8793             0           male        male        0            0   \n",
       "9211             0           male     Unknown        0            0   \n",
       "5445             0           male      female        0            0   \n",
       "8529             0           male      female        0            0   \n",
       "...            ...            ...         ...      ...          ...   \n",
       "1144             0           male      female        0            0   \n",
       "1009             0           male     Unknown        0            0   \n",
       "976              0           male      female        0            0   \n",
       "878              0           male      female        0            0   \n",
       "6384             0           male        male        0            0   \n",
       "\n",
       "      imdbVotes_NaN  BoxOffice_NaN  bechdel_binary  log_BoxOffice  \n",
       "7757              0              0               1      20.657833  \n",
       "8793              0              0               1      20.570549  \n",
       "9211              0              0               1      20.500857  \n",
       "5445              0              0               1      20.449497  \n",
       "8529              0              0               1      20.367200  \n",
       "...             ...            ...             ...            ...  \n",
       "1144              0              0               1       6.232448  \n",
       "1009              0              0               0       6.232448  \n",
       "976               0              0               0       6.232448  \n",
       "878               0              0               0       6.232448  \n",
       "6384              0              0               1       5.948035  \n",
       "\n",
       "[9248 rows x 19 columns]"
      ]
     },
     "execution_count": 553,
     "metadata": {},
     "output_type": "execute_result"
    }
   ],
   "source": [
    "final_df.sort_values(by=['BoxOffice'], ascending=False)\n",
    "#Looks like these values are for huge box office hits, let's leave them since they are valid extreme values."
   ]
  },
  {
   "cell_type": "code",
   "execution_count": 552,
   "id": "e565023e",
   "metadata": {},
   "outputs": [],
   "source": [
    "final_df['log_BoxOffice'] = np.log(final_df['BoxOffice'])\n",
    "#But let's add a log variable for future analysis."
   ]
  },
  {
   "cell_type": "code",
   "execution_count": 526,
   "id": "5727fc74",
   "metadata": {},
   "outputs": [
    {
     "data": {
      "image/png": "[encoded data removed]",
      "text/plain": [
       "<Figure size 1080x360 with 3 Axes>"
      ]
     },
     "metadata": {
      "needs_background": "light"
     },
     "output_type": "display_data"
    },
    {
     "data": {
      "image/png": "[encoded data removed]",
      "text/plain": [
       "<Figure size 1080x360 with 3 Axes>"
      ]
     },
     "metadata": {
      "needs_background": "light"
     },
     "output_type": "display_data"
    }
   ],
   "source": [
    "for value in final_df[['BoxOffice', 'log_BoxOffice']]:\n",
    "    sns.lmplot(x = value,\n",
    "                        y = \"bechdel_binary\",\n",
    "                        col=\"DirectorGender\", \n",
    "                        hue=\"DirectorGender\",\n",
    "                        data = final_df,\n",
    "                        y_jitter=.02, \n",
    "                        logistic=True,\n",
    "                        truncate=False)"
   ]
  },
  {
   "cell_type": "markdown",
   "id": "167ee3d1",
   "metadata": {},
   "source": [
    "Based on our logit models, it appears that the larger the box office earnings for a film, the less likely the film is to pass the Bechdel test (binary value). Female directors who direct films with larger box office earnings are less likely to pass the Bechdel test the larger their box office earnings are."
   ]
  },
  {
   "cell_type": "markdown",
   "id": "6afa66b4",
   "metadata": {},
   "source": [
    "#### Question 2. Do women more direct films that score higher on the Bechdel test than men?"
   ]
  },
  {
   "cell_type": "code",
   "execution_count": 529,
   "id": "08b1322f",
   "metadata": {},
   "outputs": [
    {
     "data": {
      "text/plain": [
       "<AxesSubplot:xlabel='bechdel_rating', ylabel='count'>"
      ]
     },
     "execution_count": 529,
     "metadata": {},
     "output_type": "execute_result"
    },
    {
     "data": {
      "image/png": "[encoded data removed]",
      "text/plain": [
       "<Figure size 432x288 with 1 Axes>"
      ]
     },
     "metadata": {
      "needs_background": "light"
     },
     "output_type": "display_data"
    }
   ],
   "source": [
    "sns.countplot(data = final_df, x='bechdel_rating', hue='DirectorGender')"
   ]
  },
  {
   "cell_type": "code",
   "execution_count": 545,
   "id": "e069092f",
   "metadata": {},
   "outputs": [
    {
     "data": {
      "text/plain": [
       "<matplotlib.collections.PathCollection at 0x7fe56deaa9a0>"
      ]
     },
     "execution_count": 545,
     "metadata": {},
     "output_type": "execute_result"
    },
    {
     "data": {
      "image/png": "[encoded data removed]",
      "text/plain": [
       "<Figure size 432x288 with 1 Axes>"
      ]
     },
     "metadata": {
      "needs_background": "light"
     },
     "output_type": "display_data"
    }
   ],
   "source": [
    "plt.scatter(data = final_df, x=\"Released\", y=\"imdbRating\")"
   ]
  },
  {
   "cell_type": "markdown",
   "id": "7999a5f3",
   "metadata": {},
   "source": [
    "#### Question 3. Do LGBT films have a higher Bechdel test than non-LGBT films?"
   ]
  },
  {
   "cell_type": "code",
   "execution_count": 549,
   "id": "6bc2aefc",
   "metadata": {},
   "outputs": [
    {
     "data": {
      "text/plain": [
       "<seaborn.axisgrid.FacetGrid at 0x7fe56b934400>"
      ]
     },
     "execution_count": 549,
     "metadata": {},
     "output_type": "execute_result"
    },
    {
     "data": {
      "image/png": "[encoded data removed]",
      "text/plain": [
       "<Figure size 360x360 with 1 Axes>"
      ]
     },
     "metadata": {
      "needs_background": "light"
     },
     "output_type": "display_data"
    }
   ],
   "source": [
    "sns.lmplot(x = \"IsItGay\", y = \"bechdel_binary\",\n",
    "                        data = final_df,\n",
    "                        y_jitter=.02, \n",
    "                        logistic=True,\n",
    "                        truncate=False)"
   ]
  }
 ],
 "metadata": {
  "kernelspec": {
   "display_name": "Python 3 (ipykernel)",
   "language": "python",
   "name": "python3"
  },
  "language_info": {
   "codemirror_mode": {
    "name": "ipython",
    "version": 3
   },
   "file_extension": ".py",
   "mimetype": "text/x-python",
   "name": "python",
   "nbconvert_exporter": "python",
   "pygments_lexer": "ipython3",
   "version": "3.9.7"
  }
 },
 "nbformat": 4,
 "nbformat_minor": 5
}
